{
 "cells": [
  {
   "cell_type": "code",
   "execution_count": 1,
   "metadata": {},
   "outputs": [],
   "source": [
    "\n",
    "import warnings\n",
    "warnings.filterwarnings(\"ignore\")\n",
    "import numpy as np\n",
    "import pandas as pd\n",
    "import matplotlib.pyplot as plt\n",
    "from sklearn.model_selection import train_test_split\n",
    "from sklearn.metrics import accuracy_score,plot_confusion_matrix,roc_auc_score, classification_report, confusion_matrix, precision_recall_curve, auc\n",
    "np.random.seed(20)\n",
    "\n",
    "import matplotlib.pyplot as plt\n",
    "from sklearn.metrics import r2_score\n",
    "import sklearn.metrics as metrics\n",
    "import torch\n",
    "from torch.utils.data import DataLoader, Dataset\n"
   ]
  },
  {
   "cell_type": "code",
   "execution_count": 2,
   "metadata": {},
   "outputs": [],
   "source": [
    "dataset = pd.read_csv('./data/dataset_2.csv')"
   ]
  },
  {
   "cell_type": "code",
   "execution_count": 3,
   "metadata": {},
   "outputs": [
    {
     "data": {
      "text/html": [
       "<div>\n",
       "<style scoped>\n",
       "    .dataframe tbody tr th:only-of-type {\n",
       "        vertical-align: middle;\n",
       "    }\n",
       "\n",
       "    .dataframe tbody tr th {\n",
       "        vertical-align: top;\n",
       "    }\n",
       "\n",
       "    .dataframe thead th {\n",
       "        text-align: right;\n",
       "    }\n",
       "</style>\n",
       "<table border=\"1\" class=\"dataframe\">\n",
       "  <thead>\n",
       "    <tr style=\"text-align: right;\">\n",
       "      <th></th>\n",
       "      <th>User_ID</th>\n",
       "      <th>Occupation</th>\n",
       "      <th>Marital_Status</th>\n",
       "      <th>Product_Category_1</th>\n",
       "      <th>Product_Category_2</th>\n",
       "      <th>Product_Category_3</th>\n",
       "      <th>Purchase</th>\n",
       "    </tr>\n",
       "  </thead>\n",
       "  <tbody>\n",
       "    <tr>\n",
       "      <th>count</th>\n",
       "      <td>5.500680e+05</td>\n",
       "      <td>550068.000000</td>\n",
       "      <td>550068.000000</td>\n",
       "      <td>550068.000000</td>\n",
       "      <td>376430.000000</td>\n",
       "      <td>166821.000000</td>\n",
       "      <td>550068.000000</td>\n",
       "    </tr>\n",
       "    <tr>\n",
       "      <th>mean</th>\n",
       "      <td>1.003029e+06</td>\n",
       "      <td>8.076707</td>\n",
       "      <td>0.409653</td>\n",
       "      <td>5.404270</td>\n",
       "      <td>9.842329</td>\n",
       "      <td>12.668243</td>\n",
       "      <td>9263.968713</td>\n",
       "    </tr>\n",
       "    <tr>\n",
       "      <th>std</th>\n",
       "      <td>1.727592e+03</td>\n",
       "      <td>6.522660</td>\n",
       "      <td>0.491770</td>\n",
       "      <td>3.936211</td>\n",
       "      <td>5.086590</td>\n",
       "      <td>4.125338</td>\n",
       "      <td>5023.065394</td>\n",
       "    </tr>\n",
       "    <tr>\n",
       "      <th>min</th>\n",
       "      <td>1.000001e+06</td>\n",
       "      <td>0.000000</td>\n",
       "      <td>0.000000</td>\n",
       "      <td>1.000000</td>\n",
       "      <td>2.000000</td>\n",
       "      <td>3.000000</td>\n",
       "      <td>12.000000</td>\n",
       "    </tr>\n",
       "    <tr>\n",
       "      <th>25%</th>\n",
       "      <td>1.001516e+06</td>\n",
       "      <td>2.000000</td>\n",
       "      <td>0.000000</td>\n",
       "      <td>1.000000</td>\n",
       "      <td>5.000000</td>\n",
       "      <td>9.000000</td>\n",
       "      <td>5823.000000</td>\n",
       "    </tr>\n",
       "    <tr>\n",
       "      <th>50%</th>\n",
       "      <td>1.003077e+06</td>\n",
       "      <td>7.000000</td>\n",
       "      <td>0.000000</td>\n",
       "      <td>5.000000</td>\n",
       "      <td>9.000000</td>\n",
       "      <td>14.000000</td>\n",
       "      <td>8047.000000</td>\n",
       "    </tr>\n",
       "    <tr>\n",
       "      <th>75%</th>\n",
       "      <td>1.004478e+06</td>\n",
       "      <td>14.000000</td>\n",
       "      <td>1.000000</td>\n",
       "      <td>8.000000</td>\n",
       "      <td>15.000000</td>\n",
       "      <td>16.000000</td>\n",
       "      <td>12054.000000</td>\n",
       "    </tr>\n",
       "    <tr>\n",
       "      <th>max</th>\n",
       "      <td>1.006040e+06</td>\n",
       "      <td>20.000000</td>\n",
       "      <td>1.000000</td>\n",
       "      <td>20.000000</td>\n",
       "      <td>18.000000</td>\n",
       "      <td>18.000000</td>\n",
       "      <td>23961.000000</td>\n",
       "    </tr>\n",
       "  </tbody>\n",
       "</table>\n",
       "</div>"
      ],
      "text/plain": [
       "            User_ID     Occupation  Marital_Status  Product_Category_1  \\\n",
       "count  5.500680e+05  550068.000000   550068.000000       550068.000000   \n",
       "mean   1.003029e+06       8.076707        0.409653            5.404270   \n",
       "std    1.727592e+03       6.522660        0.491770            3.936211   \n",
       "min    1.000001e+06       0.000000        0.000000            1.000000   \n",
       "25%    1.001516e+06       2.000000        0.000000            1.000000   \n",
       "50%    1.003077e+06       7.000000        0.000000            5.000000   \n",
       "75%    1.004478e+06      14.000000        1.000000            8.000000   \n",
       "max    1.006040e+06      20.000000        1.000000           20.000000   \n",
       "\n",
       "       Product_Category_2  Product_Category_3       Purchase  \n",
       "count       376430.000000       166821.000000  550068.000000  \n",
       "mean             9.842329           12.668243    9263.968713  \n",
       "std              5.086590            4.125338    5023.065394  \n",
       "min              2.000000            3.000000      12.000000  \n",
       "25%              5.000000            9.000000    5823.000000  \n",
       "50%              9.000000           14.000000    8047.000000  \n",
       "75%             15.000000           16.000000   12054.000000  \n",
       "max             18.000000           18.000000   23961.000000  "
      ]
     },
     "execution_count": 3,
     "metadata": {},
     "output_type": "execute_result"
    }
   ],
   "source": [
    "# Observación estadística de los datos\n",
    "dataset.describe()"
   ]
  },
  {
   "cell_type": "code",
   "execution_count": 4,
   "metadata": {},
   "outputs": [
    {
     "data": {
      "text/plain": [
       "User_ID                            0\n",
       "Product_ID                         0\n",
       "Gender                             0\n",
       "Age                                0\n",
       "Occupation                         0\n",
       "City_Category                      0\n",
       "Stay_In_Current_City_Years         0\n",
       "Marital_Status                     0\n",
       "Product_Category_1                 0\n",
       "Product_Category_2            173638\n",
       "Product_Category_3            383247\n",
       "Purchase                           0\n",
       "dtype: int64"
      ]
     },
     "execution_count": 4,
     "metadata": {},
     "output_type": "execute_result"
    }
   ],
   "source": [
    "# Chequeo si hay datos nulos\n",
    "dataset.isnull().sum()"
   ]
  },
  {
   "cell_type": "code",
   "execution_count": 5,
   "metadata": {},
   "outputs": [
    {
     "name": "stdout",
     "output_type": "stream",
     "text": [
      "<class 'pandas.core.frame.DataFrame'>\n",
      "RangeIndex: 550068 entries, 0 to 550067\n",
      "Data columns (total 12 columns):\n",
      " #   Column                      Non-Null Count   Dtype  \n",
      "---  ------                      --------------   -----  \n",
      " 0   User_ID                     550068 non-null  int64  \n",
      " 1   Product_ID                  550068 non-null  object \n",
      " 2   Gender                      550068 non-null  object \n",
      " 3   Age                         550068 non-null  object \n",
      " 4   Occupation                  550068 non-null  int64  \n",
      " 5   City_Category               550068 non-null  object \n",
      " 6   Stay_In_Current_City_Years  550068 non-null  object \n",
      " 7   Marital_Status              550068 non-null  int64  \n",
      " 8   Product_Category_1          550068 non-null  int64  \n",
      " 9   Product_Category_2          376430 non-null  float64\n",
      " 10  Product_Category_3          166821 non-null  float64\n",
      " 11  Purchase                    550068 non-null  int64  \n",
      "dtypes: float64(2), int64(5), object(5)\n",
      "memory usage: 50.4+ MB\n"
     ]
    }
   ],
   "source": [
    "# Observamos la informacion de cada variable\n",
    "dataset.info()"
   ]
  },
  {
   "cell_type": "code",
   "execution_count": 6,
   "metadata": {},
   "outputs": [
    {
     "data": {
      "text/plain": [
       "Int64Index([     0,      2,      3,      4,      9,     10,     11,     12,\n",
       "                14,     15,\n",
       "            ...\n",
       "            550058, 550059, 550060, 550061, 550062, 550063, 550064, 550065,\n",
       "            550066, 550067],\n",
       "           dtype='int64', length=330871)"
      ]
     },
     "execution_count": 6,
     "metadata": {},
     "output_type": "execute_result"
    }
   ],
   "source": [
    "# Visualizar los índices de las compras menores o iguales 9000 antes\n",
    "# de ser modificadas.\n",
    "list_detection_purchase_to_modified=dataset[dataset['Purchase']<=9000].index\n",
    "list_detection_purchase_to_modified"
   ]
  },
  {
   "cell_type": "code",
   "execution_count": 7,
   "metadata": {},
   "outputs": [],
   "source": [
    "#Reemplazar con 0 aquellas compras menores o iguales a 9000.\n",
    "dataset.loc[dataset.Purchase<=9000,'Purchase']=0"
   ]
  },
  {
   "cell_type": "code",
   "execution_count": 8,
   "metadata": {},
   "outputs": [
    {
     "data": {
      "text/plain": [
       "Int64Index([     1,      5,      6,      7,      8,     13,     16,     18,\n",
       "                19,     21,\n",
       "            ...\n",
       "            545882, 545884, 545887, 545891, 545892, 545896, 545904, 545908,\n",
       "            545910, 545914],\n",
       "           dtype='int64', length=219197)"
      ]
     },
     "execution_count": 8,
     "metadata": {},
     "output_type": "execute_result"
    }
   ],
   "source": [
    "# Visualizar los índices de las compras mayores a 9000 antes\n",
    "# de ser modificadas.\n",
    "list_detection_purchase_to_modified=dataset[dataset['Purchase']>9000].index\n",
    "list_detection_purchase_to_modified"
   ]
  },
  {
   "cell_type": "code",
   "execution_count": 9,
   "metadata": {},
   "outputs": [],
   "source": [
    "#Reemplazar con 1 aquellas compras mayores a 9000.\n",
    "dataset.loc[dataset.Purchase>9000,'Purchase']=1"
   ]
  },
  {
   "cell_type": "code",
   "execution_count": 10,
   "metadata": {},
   "outputs": [
    {
     "name": "stdout",
     "output_type": "stream",
     "text": [
      "Purchase\n",
      "0    330871\n",
      "1    219197\n",
      "Name: Purchase, dtype: int64\n"
     ]
    },
    {
     "data": {
      "image/png": "[encoded data removed]",
      "text/plain": [
       "<Figure size 1000x500 with 1 Axes>"
      ]
     },
     "metadata": {},
     "output_type": "display_data"
    }
   ],
   "source": [
    "# Vemos el balance de cada una de las clases\n",
    "print(dataset.groupby(['Purchase']).Purchase.count())\n",
    "dataset.groupby(['Purchase']).Purchase.count().plot(kind=\"bar\",figsize=(10,5))\n",
    "plt.ylabel(\"Compras\")\n",
    "\n",
    "plt.title(\"Compras vs precio Bajo (0) o Alto (1)\")\n",
    "plt.show()"
   ]
  },
  {
   "cell_type": "code",
   "execution_count": 11,
   "metadata": {},
   "outputs": [
    {
     "data": {
      "text/plain": [
       "Gender\n",
       "F    135809\n",
       "M    414259\n",
       "Name: Gender, dtype: int64"
      ]
     },
     "execution_count": 11,
     "metadata": {},
     "output_type": "execute_result"
    }
   ],
   "source": [
    "# Grupos de la variable Gender\n",
    "dataset.groupby(['Gender']).Gender.count()"
   ]
  },
  {
   "cell_type": "code",
   "execution_count": 12,
   "metadata": {},
   "outputs": [],
   "source": [
    "# Asigno un 0 al genero Masculino\n",
    "dataset.loc[dataset.Gender=='M','Gender']=0"
   ]
  },
  {
   "cell_type": "code",
   "execution_count": 13,
   "metadata": {},
   "outputs": [],
   "source": [
    "# Asigno un 1 al genero Femenino\n",
    "dataset.loc[dataset.Gender=='F','Gender']=1"
   ]
  },
  {
   "cell_type": "code",
   "execution_count": 14,
   "metadata": {},
   "outputs": [],
   "source": [
    "dataset[\"Gender\"]=dataset[\"Gender\"].astype(int)"
   ]
  },
  {
   "cell_type": "code",
   "execution_count": 15,
   "metadata": {},
   "outputs": [
    {
     "data": {
      "text/plain": [
       "<AxesSubplot:xlabel='Age'>"
      ]
     },
     "execution_count": 15,
     "metadata": {},
     "output_type": "execute_result"
    },
    {
     "data": {
      "image/png": "[encoded data removed]",
      "text/plain": [
       "<Figure size 1600x500 with 1 Axes>"
      ]
     },
     "metadata": {},
     "output_type": "display_data"
    }
   ],
   "source": [
    "# Vemos como son los datos para la edad\n",
    "plt.figure(figsize=(16,5))\n",
    "dataset.groupby(['Age']).Age.count().plot(kind='bar')\n",
    "# dataset.groupby(['Age']).Age.count()\n"
   ]
  },
  {
   "cell_type": "code",
   "execution_count": 16,
   "metadata": {},
   "outputs": [
    {
     "name": "stdout",
     "output_type": "stream",
     "text": [
      "<class 'pandas.core.frame.DataFrame'>\n",
      "RangeIndex: 550068 entries, 0 to 550067\n",
      "Data columns (total 7 columns):\n",
      " #   Column     Non-Null Count   Dtype\n",
      "---  ------     --------------   -----\n",
      " 0   Age_0-17   550068 non-null  uint8\n",
      " 1   Age_18-25  550068 non-null  uint8\n",
      " 2   Age_26-35  550068 non-null  uint8\n",
      " 3   Age_36-45  550068 non-null  uint8\n",
      " 4   Age_46-50  550068 non-null  uint8\n",
      " 5   Age_51-55  550068 non-null  uint8\n",
      " 6   Age_55+    550068 non-null  uint8\n",
      "dtypes: uint8(7)\n",
      "memory usage: 3.7 MB\n"
     ]
    }
   ],
   "source": [
    "# Vemos que son 7 categorias, por lo que se aplica One Hot Encoding\n",
    "\n",
    "city_age_dummies = pd.get_dummies(dataset[\"Age\"], prefix=\"Age\")\n",
    "city_age_dummies.info() \n",
    "# Concatenamos con el dataset original\n",
    "df = pd.concat([dataset, city_age_dummies], axis=1)"
   ]
  },
  {
   "cell_type": "code",
   "execution_count": 17,
   "metadata": {},
   "outputs": [],
   "source": [
    "dataset=dataset.drop([\"Age\"], axis=1)"
   ]
  },
  {
   "cell_type": "code",
   "execution_count": 18,
   "metadata": {},
   "outputs": [
    {
     "data": {
      "text/plain": [
       "<AxesSubplot:xlabel='Occupation'>"
      ]
     },
     "execution_count": 18,
     "metadata": {},
     "output_type": "execute_result"
    },
    {
     "data": {
      "image/png": "[encoded data removed]",
      "text/plain": [
       "<Figure size 1600x500 with 1 Axes>"
      ]
     },
     "metadata": {},
     "output_type": "display_data"
    }
   ],
   "source": [
    "# Vemos los datos de la variable Occupation\n",
    "\n",
    "plt.figure(figsize=(16,5))\n",
    "dataset.groupby(['Occupation']).Occupation.count().plot(kind='bar')"
   ]
  },
  {
   "cell_type": "code",
   "execution_count": 19,
   "metadata": {},
   "outputs": [
    {
     "name": "stdout",
     "output_type": "stream",
     "text": [
      "<class 'pandas.core.frame.DataFrame'>\n",
      "RangeIndex: 550068 entries, 0 to 550067\n",
      "Data columns (total 21 columns):\n",
      " #   Column         Non-Null Count   Dtype\n",
      "---  ------         --------------   -----\n",
      " 0   Occupation_0   550068 non-null  uint8\n",
      " 1   Occupation_1   550068 non-null  uint8\n",
      " 2   Occupation_2   550068 non-null  uint8\n",
      " 3   Occupation_3   550068 non-null  uint8\n",
      " 4   Occupation_4   550068 non-null  uint8\n",
      " 5   Occupation_5   550068 non-null  uint8\n",
      " 6   Occupation_6   550068 non-null  uint8\n",
      " 7   Occupation_7   550068 non-null  uint8\n",
      " 8   Occupation_8   550068 non-null  uint8\n",
      " 9   Occupation_9   550068 non-null  uint8\n",
      " 10  Occupation_10  550068 non-null  uint8\n",
      " 11  Occupation_11  550068 non-null  uint8\n",
      " 12  Occupation_12  550068 non-null  uint8\n",
      " 13  Occupation_13  550068 non-null  uint8\n",
      " 14  Occupation_14  550068 non-null  uint8\n",
      " 15  Occupation_15  550068 non-null  uint8\n",
      " 16  Occupation_16  550068 non-null  uint8\n",
      " 17  Occupation_17  550068 non-null  uint8\n",
      " 18  Occupation_18  550068 non-null  uint8\n",
      " 19  Occupation_19  550068 non-null  uint8\n",
      " 20  Occupation_20  550068 non-null  uint8\n",
      "dtypes: uint8(21)\n",
      "memory usage: 11.0 MB\n"
     ]
    }
   ],
   "source": [
    "occupation_dummies = pd.get_dummies(dataset[\"Occupation\"], prefix=\"Occupation\")\n",
    "occupation_dummies.info() "
   ]
  },
  {
   "cell_type": "code",
   "execution_count": 20,
   "metadata": {},
   "outputs": [],
   "source": [
    "dataset = pd.concat([dataset, occupation_dummies], axis=1)\n",
    "dataset=dataset.drop([\"Occupation\"], axis=1)"
   ]
  },
  {
   "cell_type": "code",
   "execution_count": 21,
   "metadata": {},
   "outputs": [
    {
     "data": {
      "text/plain": [
       "<AxesSubplot:xlabel='City_Category'>"
      ]
     },
     "execution_count": 21,
     "metadata": {},
     "output_type": "execute_result"
    },
    {
     "data": {
      "image/png": "[encoded data removed]",
      "text/plain": [
       "<Figure size 1600x500 with 1 Axes>"
      ]
     },
     "metadata": {},
     "output_type": "display_data"
    }
   ],
   "source": [
    "# Variable City Category\n",
    "\n",
    "plt.figure(figsize=(16,5))\n",
    "dataset.groupby(['City_Category']).City_Category.count().plot(kind='bar')"
   ]
  },
  {
   "cell_type": "code",
   "execution_count": 22,
   "metadata": {},
   "outputs": [
    {
     "name": "stdout",
     "output_type": "stream",
     "text": [
      "<class 'pandas.core.frame.DataFrame'>\n",
      "RangeIndex: 550068 entries, 0 to 550067\n",
      "Data columns (total 3 columns):\n",
      " #   Column           Non-Null Count   Dtype\n",
      "---  ------           --------------   -----\n",
      " 0   City_Category_A  550068 non-null  uint8\n",
      " 1   City_Category_B  550068 non-null  uint8\n",
      " 2   City_Category_C  550068 non-null  uint8\n",
      "dtypes: uint8(3)\n",
      "memory usage: 1.6 MB\n"
     ]
    }
   ],
   "source": [
    "city_category_dummies = pd.get_dummies(dataset[\"City_Category\"], prefix=\"City_Category\")\n",
    "city_category_dummies.info() \n",
    "dataset = pd.concat([dataset, city_category_dummies], axis=1)\n",
    "dataset=dataset.drop([\"City_Category\"], axis=1)"
   ]
  },
  {
   "cell_type": "code",
   "execution_count": 23,
   "metadata": {},
   "outputs": [
    {
     "data": {
      "text/plain": [
       "<AxesSubplot:xlabel='Stay_In_Current_City_Years'>"
      ]
     },
     "execution_count": 23,
     "metadata": {},
     "output_type": "execute_result"
    },
    {
     "data": {
      "image/png": "[encoded data removed]",
      "text/plain": [
       "<Figure size 640x480 with 1 Axes>"
      ]
     },
     "metadata": {},
     "output_type": "display_data"
    }
   ],
   "source": [
    "# Variable Stay_In_Current_City_Years\n",
    "\n",
    "dataset.groupby(['Stay_In_Current_City_Years']).Stay_In_Current_City_Years.count().plot(kind='bar')"
   ]
  },
  {
   "cell_type": "code",
   "execution_count": 24,
   "metadata": {},
   "outputs": [
    {
     "name": "stdout",
     "output_type": "stream",
     "text": [
      "<class 'pandas.core.frame.DataFrame'>\n",
      "RangeIndex: 550068 entries, 0 to 550067\n",
      "Data columns (total 5 columns):\n",
      " #   Column                         Non-Null Count   Dtype\n",
      "---  ------                         --------------   -----\n",
      " 0   Stay_In_Current_City_Years_0   550068 non-null  uint8\n",
      " 1   Stay_In_Current_City_Years_1   550068 non-null  uint8\n",
      " 2   Stay_In_Current_City_Years_2   550068 non-null  uint8\n",
      " 3   Stay_In_Current_City_Years_3   550068 non-null  uint8\n",
      " 4   Stay_In_Current_City_Years_4+  550068 non-null  uint8\n",
      "dtypes: uint8(5)\n",
      "memory usage: 2.6 MB\n"
     ]
    }
   ],
   "source": [
    "city_category_dummies = pd.get_dummies(dataset[\"Stay_In_Current_City_Years\"], prefix=\"Stay_In_Current_City_Years\")\n",
    "city_category_dummies.info() "
   ]
  },
  {
   "cell_type": "code",
   "execution_count": 25,
   "metadata": {},
   "outputs": [],
   "source": [
    "dataset = pd.concat([dataset, city_category_dummies], axis=1)\n",
    "dataset=dataset.drop([\"Stay_In_Current_City_Years\"], axis=1)"
   ]
  },
  {
   "cell_type": "code",
   "execution_count": 26,
   "metadata": {},
   "outputs": [
    {
     "data": {
      "text/plain": [
       "<AxesSubplot:xlabel='Marital_Status'>"
      ]
     },
     "execution_count": 26,
     "metadata": {},
     "output_type": "execute_result"
    },
    {
     "data": {
      "image/png": "[encoded data removed]",
      "text/plain": [
       "<Figure size 1600x500 with 1 Axes>"
      ]
     },
     "metadata": {},
     "output_type": "display_data"
    }
   ],
   "source": [
    "# Vemos la variable Marital_Status\n",
    "\n",
    "plt.figure(figsize=(16,5))\n",
    "dataset.groupby(['Marital_Status']).Marital_Status.count().plot(kind='bar')"
   ]
  },
  {
   "cell_type": "code",
   "execution_count": 27,
   "metadata": {},
   "outputs": [
    {
     "data": {
      "text/plain": [
       "<AxesSubplot:xlabel='Product_Category_1'>"
      ]
     },
     "execution_count": 27,
     "metadata": {},
     "output_type": "execute_result"
    },
    {
     "data": {
      "image/png": "[encoded data removed]",
      "text/plain": [
       "<Figure size 1600x500 with 1 Axes>"
      ]
     },
     "metadata": {},
     "output_type": "display_data"
    }
   ],
   "source": [
    "# Cantidad de grupos de productos\n",
    "\n",
    "plt.figure(figsize=(16,5))\n",
    "dataset.groupby(['Product_Category_1']).Product_Category_1.count().plot(kind='bar')"
   ]
  },
  {
   "cell_type": "code",
   "execution_count": 28,
   "metadata": {},
   "outputs": [
    {
     "name": "stdout",
     "output_type": "stream",
     "text": [
      "<class 'pandas.core.frame.DataFrame'>\n",
      "RangeIndex: 550068 entries, 0 to 550067\n",
      "Data columns (total 20 columns):\n",
      " #   Column                 Non-Null Count   Dtype\n",
      "---  ------                 --------------   -----\n",
      " 0   Product_Category_1_1   550068 non-null  uint8\n",
      " 1   Product_Category_1_2   550068 non-null  uint8\n",
      " 2   Product_Category_1_3   550068 non-null  uint8\n",
      " 3   Product_Category_1_4   550068 non-null  uint8\n",
      " 4   Product_Category_1_5   550068 non-null  uint8\n",
      " 5   Product_Category_1_6   550068 non-null  uint8\n",
      " 6   Product_Category_1_7   550068 non-null  uint8\n",
      " 7   Product_Category_1_8   550068 non-null  uint8\n",
      " 8   Product_Category_1_9   550068 non-null  uint8\n",
      " 9   Product_Category_1_10  550068 non-null  uint8\n",
      " 10  Product_Category_1_11  550068 non-null  uint8\n",
      " 11  Product_Category_1_12  550068 non-null  uint8\n",
      " 12  Product_Category_1_13  550068 non-null  uint8\n",
      " 13  Product_Category_1_14  550068 non-null  uint8\n",
      " 14  Product_Category_1_15  550068 non-null  uint8\n",
      " 15  Product_Category_1_16  550068 non-null  uint8\n",
      " 16  Product_Category_1_17  550068 non-null  uint8\n",
      " 17  Product_Category_1_18  550068 non-null  uint8\n",
      " 18  Product_Category_1_19  550068 non-null  uint8\n",
      " 19  Product_Category_1_20  550068 non-null  uint8\n",
      "dtypes: uint8(20)\n",
      "memory usage: 10.5 MB\n"
     ]
    }
   ],
   "source": [
    "product_category_1_dummies = pd.get_dummies(dataset[\"Product_Category_1\"], prefix=\"Product_Category_1\")\n",
    "product_category_1_dummies.info() \n",
    "dataset = pd.concat([dataset, product_category_1_dummies], axis=1)\n",
    "dataset=dataset.drop([\"Product_Category_1\"], axis=1)"
   ]
  },
  {
   "cell_type": "code",
   "execution_count": 29,
   "metadata": {},
   "outputs": [
    {
     "data": {
      "text/plain": [
       "<AxesSubplot:xlabel='Product_Category_2'>"
      ]
     },
     "execution_count": 29,
     "metadata": {},
     "output_type": "execute_result"
    },
    {
     "data": {
      "image/png": "[encoded data removed]",
      "text/plain": [
       "<Figure size 1600x500 with 1 Axes>"
      ]
     },
     "metadata": {},
     "output_type": "display_data"
    }
   ],
   "source": [
    "# Para el grupo de categoria 2 debemos tratar ademas los datos nulos\n",
    "\n",
    "\n",
    "\n",
    "plt.figure(figsize=(16,5))\n",
    "dataset.groupby(['Product_Category_2']).Product_Category_2.count().plot(kind='bar')\n"
   ]
  },
  {
   "cell_type": "code",
   "execution_count": 30,
   "metadata": {},
   "outputs": [
    {
     "data": {
      "text/plain": [
       "173638"
      ]
     },
     "execution_count": 30,
     "metadata": {},
     "output_type": "execute_result"
    }
   ],
   "source": [
    "dataset['Product_Category_2'].isna().sum()"
   ]
  },
  {
   "cell_type": "code",
   "execution_count": 31,
   "metadata": {},
   "outputs": [
    {
     "name": "stdout",
     "output_type": "stream",
     "text": [
      "<class 'pandas.core.frame.DataFrame'>\n",
      "RangeIndex: 550068 entries, 0 to 550067\n",
      "Data columns (total 18 columns):\n",
      " #   Column                 Non-Null Count   Dtype\n",
      "---  ------                 --------------   -----\n",
      " 0   Product_Category_2_0   550068 non-null  uint8\n",
      " 1   Product_Category_2_2   550068 non-null  uint8\n",
      " 2   Product_Category_2_3   550068 non-null  uint8\n",
      " 3   Product_Category_2_4   550068 non-null  uint8\n",
      " 4   Product_Category_2_5   550068 non-null  uint8\n",
      " 5   Product_Category_2_6   550068 non-null  uint8\n",
      " 6   Product_Category_2_7   550068 non-null  uint8\n",
      " 7   Product_Category_2_8   550068 non-null  uint8\n",
      " 8   Product_Category_2_9   550068 non-null  uint8\n",
      " 9   Product_Category_2_10  550068 non-null  uint8\n",
      " 10  Product_Category_2_11  550068 non-null  uint8\n",
      " 11  Product_Category_2_12  550068 non-null  uint8\n",
      " 12  Product_Category_2_13  550068 non-null  uint8\n",
      " 13  Product_Category_2_14  550068 non-null  uint8\n",
      " 14  Product_Category_2_15  550068 non-null  uint8\n",
      " 15  Product_Category_2_16  550068 non-null  uint8\n",
      " 16  Product_Category_2_17  550068 non-null  uint8\n",
      " 17  Product_Category_2_18  550068 non-null  uint8\n",
      "dtypes: uint8(18)\n",
      "memory usage: 9.4 MB\n"
     ]
    }
   ],
   "source": [
    "#Reemplazar con 0 cuando no tiene categoría (NaNs).\n",
    "dataset.loc[dataset.Product_Category_2.isna(),'Product_Category_2']=0\n",
    "# Cantidad de filas que poseen NaNs en la característica.\n",
    "dataset['Product_Category_2'].isna().sum()\n",
    "dataset[\"Product_Category_2\"]=dataset[\"Product_Category_2\"].astype(int)\n",
    "product_category_2_dummies = pd.get_dummies(dataset[\"Product_Category_2\"], prefix=\"Product_Category_2\")\n",
    "product_category_2_dummies.info() \n",
    "dataset = pd.concat([dataset, product_category_2_dummies], axis=1)\n",
    "dataset=dataset.drop([\"Product_Category_2\"], axis=1)"
   ]
  },
  {
   "cell_type": "code",
   "execution_count": 32,
   "metadata": {},
   "outputs": [
    {
     "data": {
      "text/plain": [
       "<AxesSubplot:xlabel='Product_Category_3'>"
      ]
     },
     "execution_count": 32,
     "metadata": {},
     "output_type": "execute_result"
    },
    {
     "data": {
      "image/png": "[encoded data removed]",
      "text/plain": [
       "<Figure size 1600x500 with 1 Axes>"
      ]
     },
     "metadata": {},
     "output_type": "display_data"
    }
   ],
   "source": [
    "# Mismo tratamiento para la categoria 3\n",
    "\n",
    "plt.figure(figsize=(16,5))\n",
    "dataset.groupby(['Product_Category_3']).Product_Category_3.count().plot(kind='bar')\n"
   ]
  },
  {
   "cell_type": "code",
   "execution_count": 33,
   "metadata": {},
   "outputs": [
    {
     "data": {
      "text/plain": [
       "383247"
      ]
     },
     "execution_count": 33,
     "metadata": {},
     "output_type": "execute_result"
    }
   ],
   "source": [
    "dataset['Product_Category_3'].isna().sum()"
   ]
  },
  {
   "cell_type": "code",
   "execution_count": 34,
   "metadata": {},
   "outputs": [
    {
     "name": "stdout",
     "output_type": "stream",
     "text": [
      "<class 'pandas.core.frame.DataFrame'>\n",
      "RangeIndex: 550068 entries, 0 to 550067\n",
      "Data columns (total 16 columns):\n",
      " #   Column                 Non-Null Count   Dtype\n",
      "---  ------                 --------------   -----\n",
      " 0   Product_Category_3_0   550068 non-null  uint8\n",
      " 1   Product_Category_3_3   550068 non-null  uint8\n",
      " 2   Product_Category_3_4   550068 non-null  uint8\n",
      " 3   Product_Category_3_5   550068 non-null  uint8\n",
      " 4   Product_Category_3_6   550068 non-null  uint8\n",
      " 5   Product_Category_3_8   550068 non-null  uint8\n",
      " 6   Product_Category_3_9   550068 non-null  uint8\n",
      " 7   Product_Category_3_10  550068 non-null  uint8\n",
      " 8   Product_Category_3_11  550068 non-null  uint8\n",
      " 9   Product_Category_3_12  550068 non-null  uint8\n",
      " 10  Product_Category_3_13  550068 non-null  uint8\n",
      " 11  Product_Category_3_14  550068 non-null  uint8\n",
      " 12  Product_Category_3_15  550068 non-null  uint8\n",
      " 13  Product_Category_3_16  550068 non-null  uint8\n",
      " 14  Product_Category_3_17  550068 non-null  uint8\n",
      " 15  Product_Category_3_18  550068 non-null  uint8\n",
      "dtypes: uint8(16)\n",
      "memory usage: 8.4 MB\n"
     ]
    }
   ],
   "source": [
    "dataset.loc[dataset.Product_Category_3.isna(),'Product_Category_3']=0\n",
    "# Cantidad de filas que poseen NaNs en la característica.\n",
    "dataset['Product_Category_3'].isna().sum()\n",
    "dataset[\"Product_Category_3\"]=dataset[\"Product_Category_3\"].astype(int)\n",
    "product_category_3_dummies = pd.get_dummies(dataset[\"Product_Category_3\"], prefix=\"Product_Category_3\")\n",
    "product_category_3_dummies.info() \n",
    "dataset = pd.concat([dataset, product_category_3_dummies], axis=1)\n",
    "dataset=dataset.drop([\"Product_Category_3\"], axis=1)"
   ]
  },
  {
   "cell_type": "code",
   "execution_count": 35,
   "metadata": {},
   "outputs": [
    {
     "name": "stdout",
     "output_type": "stream",
     "text": [
      "Datos diferentes de User_ID: 5891\n",
      "Datos diferentes de Product_ID: 3631\n"
     ]
    }
   ],
   "source": [
    "# Para las categorias de User_ID y Product_ID se opta eliminarlas por su alta cardinalidad.\n",
    "\n",
    "print(\"Datos diferentes de User_ID:\",len(dataset.groupby(['User_ID']).User_ID.count()))\n",
    "print(\"Datos diferentes de Product_ID:\",len(dataset.groupby(['Product_ID']).Product_ID.count()))"
   ]
  },
  {
   "cell_type": "code",
   "execution_count": 36,
   "metadata": {},
   "outputs": [
    {
     "name": "stdout",
     "output_type": "stream",
     "text": [
      "Output: (550068,)\n",
      "Data Input: (550068, 85)\n"
     ]
    }
   ],
   "source": [
    "# Separamos el target y eliminamos las columnas que en este caso no se utilizaran.\n",
    "y = dataset[\"Purchase\"]\n",
    "\n",
    "X=dataset.drop([\"User_ID\", \"Product_ID\", \"Purchase\"], axis=1)\n",
    "print (\"Output:\",y.shape)\n",
    "print (\"Data Input:\",X.shape)"
   ]
  },
  {
   "cell_type": "markdown",
   "metadata": {},
   "source": [
    "#### Separación de datos para entrenamiento y test"
   ]
  },
  {
   "cell_type": "code",
   "execution_count": 37,
   "metadata": {},
   "outputs": [],
   "source": [
    "X_train, X_test, y_train, y_test = train_test_split(X, y, random_state=30)\n"
   ]
  },
  {
   "cell_type": "code",
   "execution_count": 38,
   "metadata": {},
   "outputs": [],
   "source": [
    "class DefineDataset(Dataset):\n",
    "\n",
    "    def __init__(self, X, y):\n",
    "        super().__init__()\n",
    "        self.X = X\n",
    "        self.y = y\n",
    "\n",
    "    def __len__(self):\n",
    "        \n",
    "        return self.X.shape[0]\n",
    "\n",
    "    def __getitem__(self, idx):\n",
    "\n",
    "        return self.X[idx], self.y[idx]"
   ]
  },
  {
   "cell_type": "code",
   "execution_count": 39,
   "metadata": {},
   "outputs": [],
   "source": [
    "X_train = X_train.to_numpy()\n",
    "y_train = y_train.to_numpy()\n",
    "X_test = X_test.to_numpy()\n",
    "y_test = y_test.to_numpy()\n",
    "\n",
    "y_train = y_train.reshape(-1)\n",
    "y_test = y_test.reshape(-1)\n",
    "\n",
    "train = DefineDataset(X_train, y_train)\n",
    "test = DefineDataset(X_test, y_test)\n",
    "\n",
    "train_dataloader = DataLoader(train, batch_size=1024, shuffle=True)\n",
    "test_dataloader = DataLoader(test, batch_size=1024, shuffle=True)"
   ]
  },
  {
   "cell_type": "code",
   "execution_count": 40,
   "metadata": {},
   "outputs": [],
   "source": [
    "\n",
    "class NNet(torch.nn.Module):\n",
    "\n",
    "    def __init__(self):\n",
    "        super().__init__()\n",
    "        \n",
    "        # Layer lineal:\n",
    "        self.linear_1 = torch.nn.Linear(in_features=85, out_features=100, bias=True)\n",
    "    \n",
    "        self.relu_1 = torch.nn.ReLU()\n",
    "        \n",
    "        self.linear_2 = torch.nn.Linear(in_features=100, out_features=50, bias=True)\n",
    "        self.relu_2 = torch.nn.ReLU()\n",
    "        \n",
    "\n",
    "        self.output = torch.nn.Linear(in_features=50, out_features=1, bias=True)\n",
    "       \n",
    "    \n",
    "    def forward(self, x): \n",
    "        x = self.linear_1(x) \n",
    "     \n",
    "        x = self.relu_1(x)\n",
    "     \n",
    "        x = self.linear_2(x) \n",
    "      \n",
    "        x = self.relu_2(x)\n",
    "        x = self.output(x) \n",
    "        return x"
   ]
  },
  {
   "cell_type": "code",
   "execution_count": 41,
   "metadata": {},
   "outputs": [],
   "source": [
    "nnet = NNet()\n",
    "optimizer = torch.optim.Adam(nnet.parameters(), lr=0.005)\n",
    "loss_function = torch.nn.BCEWithLogitsLoss(reduction=\"sum\")"
   ]
  },
  {
   "cell_type": "code",
   "execution_count": 42,
   "metadata": {},
   "outputs": [
    {
     "name": "stdout",
     "output_type": "stream",
     "text": [
      "cpu\n"
     ]
    }
   ],
   "source": [
    "device = \"\"\n",
    "if torch.cuda.is_available():\n",
    "    device = \"cuda:0\"\n",
    "else:\n",
    "    device = \"cpu\"\n",
    "\n",
    "print(device)"
   ]
  },
  {
   "cell_type": "code",
   "execution_count": 43,
   "metadata": {},
   "outputs": [
    {
     "name": "stdout",
     "output_type": "stream",
     "text": [
      "Epoch 0 | Training loss: 133920.29168701172 | AUC: 0.9233560344581735\n",
      "Epoch 0 | Validation loss: 42443.55047607422 | AUC: 0.9303007883341797\n",
      "Epoch 1 | Training loss: 128021.10122680664 | AUC: 0.9297603377532808\n",
      "Epoch 1 | Validation loss: 42164.86784362793 | AUC: 0.9319695202602063\n",
      "Epoch 2 | Training loss: 127073.35458374023 | AUC: 0.9312652296793604\n",
      "Epoch 2 | Validation loss: 42135.31987762451 | AUC: 0.9326168491714837\n",
      "Epoch 3 | Training loss: 126530.3062133789 | AUC: 0.9321787739356994\n",
      "Epoch 3 | Validation loss: 42068.61054992676 | AUC: 0.9329127598768653\n",
      "Epoch 4 | Training loss: 126219.66360473633 | AUC: 0.932631652588204\n",
      "Epoch 4 | Validation loss: 42029.78611755371 | AUC: 0.9327405301670084\n",
      "Epoch 5 | Training loss: 125906.51907348633 | AUC: 0.9332038498869165\n",
      "Epoch 5 | Validation loss: 41868.431060791016 | AUC: 0.9332688975283515\n",
      "Epoch 6 | Training loss: 125587.90744018555 | AUC: 0.933662145547443\n",
      "Epoch 6 | Validation loss: 41993.42965698242 | AUC: 0.9332428158940673\n",
      "Epoch 7 | Training loss: 125378.48400878906 | AUC: 0.9340044225067159\n",
      "Epoch 7 | Validation loss: 41842.447845458984 | AUC: 0.933560515943684\n",
      "Epoch 8 | Training loss: 125106.54513549805 | AUC: 0.934399253990545\n",
      "Epoch 8 | Validation loss: 42189.13286590576 | AUC: 0.9333885833567369\n",
      "Epoch 9 | Training loss: 124765.19030761719 | AUC: 0.9349348233661675\n",
      "Epoch 9 | Validation loss: 41896.17417907715 | AUC: 0.933467080163348\n",
      "Epoch 10 | Training loss: 124513.2490234375 | AUC: 0.9352603962447059\n",
      "Epoch 10 | Validation loss: 41898.41061401367 | AUC: 0.9335677763746909\n",
      "Epoch 11 | Training loss: 124296.4049987793 | AUC: 0.9355279718393389\n",
      "Epoch 11 | Validation loss: 41858.905448913574 | AUC: 0.9337947236836969\n",
      "Epoch 12 | Training loss: 123995.16018676758 | AUC: 0.9359516401276503\n",
      "Epoch 12 | Validation loss: 41829.93639373779 | AUC: 0.9337416800754611\n",
      "Epoch 13 | Training loss: 123638.81227111816 | AUC: 0.9364613782378042\n",
      "Epoch 13 | Validation loss: 41912.036766052246 | AUC: 0.933506689602973\n",
      "Epoch 14 | Training loss: 123409.59939575195 | AUC: 0.9367585040259019\n",
      "Epoch 14 | Validation loss: 41897.60372161865 | AUC: 0.9337787130160924\n",
      "Epoch 15 | Training loss: 123200.93896484375 | AUC: 0.9370596130454807\n",
      "Epoch 15 | Validation loss: 41887.39453125 | AUC: 0.9338438769008747\n",
      "Epoch 16 | Training loss: 122901.19958496094 | AUC: 0.9374144361470016\n",
      "Epoch 16 | Validation loss: 41852.40701293945 | AUC: 0.9339674613921138\n",
      "Epoch 17 | Training loss: 122697.06771850586 | AUC: 0.9377166840101426\n",
      "Epoch 17 | Validation loss: 41926.325370788574 | AUC: 0.9338033101387352\n",
      "Epoch 18 | Training loss: 122573.57327270508 | AUC: 0.9378256941831009\n",
      "Epoch 18 | Validation loss: 41879.8088760376 | AUC: 0.9340142400524093\n",
      "Epoch 19 | Training loss: 122173.12341308594 | AUC: 0.938350846307259\n",
      "Epoch 19 | Validation loss: 41936.11855316162 | AUC: 0.9338332163205817\n",
      "Epoch 20 | Training loss: 121911.67774963379 | AUC: 0.938684290046497\n",
      "Epoch 20 | Validation loss: 42027.3995513916 | AUC: 0.9336438050979805\n",
      "Epoch 21 | Training loss: 121736.02896118164 | AUC: 0.9389468502974325\n",
      "Epoch 21 | Validation loss: 42092.3024520874 | AUC: 0.9336461224140351\n",
      "Epoch 22 | Training loss: 121504.96162414551 | AUC: 0.9391981269933286\n",
      "Epoch 22 | Validation loss: 42159.348793029785 | AUC: 0.9333915849157502\n",
      "Epoch 23 | Training loss: 121288.57489013672 | AUC: 0.939480828422429\n",
      "Epoch 23 | Validation loss: 42181.15990447998 | AUC: 0.9334554436214269\n",
      "Epoch 24 | Training loss: 121136.37551879883 | AUC: 0.9396576165054884\n",
      "Epoch 24 | Validation loss: 42216.743812561035 | AUC: 0.9331751216117673\n",
      "Epoch 25 | Training loss: 120853.77615356445 | AUC: 0.9400114106202513\n",
      "Epoch 25 | Validation loss: 42289.82834625244 | AUC: 0.9332608298803533\n",
      "Epoch 26 | Training loss: 120707.57720947266 | AUC: 0.9401708592720042\n",
      "Epoch 26 | Validation loss: 42254.49433898926 | AUC: 0.9332974737157046\n",
      "Epoch 27 | Training loss: 120490.00915527344 | AUC: 0.9404668983933129\n",
      "Epoch 27 | Validation loss: 42350.93746948242 | AUC: 0.9330114964446091\n",
      "Epoch 28 | Training loss: 120304.68099975586 | AUC: 0.9406596150634238\n",
      "Epoch 28 | Validation loss: 42321.083152770996 | AUC: 0.9332700587782083\n",
      "Epoch 29 | Training loss: 120259.54846191406 | AUC: 0.9407104594718747\n",
      "Epoch 29 | Validation loss: 42512.43769836426 | AUC: 0.9329200391675668\n",
      "Epoch 30 | Training loss: 120052.13804626465 | AUC: 0.9409576844090787\n",
      "Epoch 30 | Validation loss: 42396.56286621094 | AUC: 0.9326267391512687\n",
      "Epoch 31 | Training loss: 119927.31797790527 | AUC: 0.9410886908117877\n",
      "Epoch 31 | Validation loss: 42497.56453704834 | AUC: 0.9330142684888585\n",
      "Epoch 32 | Training loss: 119678.1135559082 | AUC: 0.941367541136636\n",
      "Epoch 32 | Validation loss: 42453.99655914307 | AUC: 0.9328774211103295\n",
      "Epoch 33 | Training loss: 119490.74266052246 | AUC: 0.9415872518408571\n",
      "Epoch 33 | Validation loss: 42612.990089416504 | AUC: 0.9326623538649167\n",
      "Epoch 34 | Training loss: 119518.86199951172 | AUC: 0.9415368869390341\n",
      "Epoch 34 | Validation loss: 42589.65798950195 | AUC: 0.9324620407461626\n",
      "Epoch 35 | Training loss: 119332.93818664551 | AUC: 0.941791427116201\n",
      "Epoch 35 | Validation loss: 42531.25936126709 | AUC: 0.932863825255681\n",
      "Epoch 36 | Training loss: 119224.99940490723 | AUC: 0.941876139238841\n",
      "Epoch 36 | Validation loss: 42784.128913879395 | AUC: 0.9322462777875676\n",
      "Epoch 37 | Training loss: 119088.91436767578 | AUC: 0.9420376709413183\n",
      "Epoch 37 | Validation loss: 42682.5569152832 | AUC: 0.9321262084787234\n",
      "Epoch 38 | Training loss: 118942.55313110352 | AUC: 0.9422078110391775\n",
      "Epoch 38 | Validation loss: 42818.24354553223 | AUC: 0.9322777183324122\n",
      "Epoch 39 | Training loss: 118898.48551940918 | AUC: 0.9422538438225464\n",
      "Epoch 39 | Validation loss: 42981.16889953613 | AUC: 0.9323590039474456\n",
      "Epoch 40 | Training loss: 118720.6046295166 | AUC: 0.9425007471929618\n",
      "Epoch 40 | Validation loss: 42965.986877441406 | AUC: 0.9319328251397205\n",
      "Epoch 41 | Training loss: 118698.25329589844 | AUC: 0.942505454868969\n",
      "Epoch 41 | Validation loss: 43075.23760986328 | AUC: 0.9321436048375806\n",
      "Epoch 42 | Training loss: 118555.18911743164 | AUC: 0.942665687471528\n",
      "Epoch 42 | Validation loss: 43070.530281066895 | AUC: 0.9314661764050134\n",
      "Epoch 43 | Training loss: 118501.15516662598 | AUC: 0.9427378912515836\n",
      "Epoch 43 | Validation loss: 42921.122955322266 | AUC: 0.931993033887874\n",
      "Epoch 44 | Training loss: 118321.48262023926 | AUC: 0.9429263475907339\n",
      "Epoch 44 | Validation loss: 43151.888610839844 | AUC: 0.9313911832002827\n",
      "Epoch 45 | Training loss: 118440.60176086426 | AUC: 0.9427664726877159\n",
      "Epoch 45 | Validation loss: 42879.476135253906 | AUC: 0.9318482894809241\n",
      "Epoch 46 | Training loss: 118172.88706970215 | AUC: 0.9430830095836267\n",
      "Epoch 46 | Validation loss: 42942.186180114746 | AUC: 0.9319103869558132\n",
      "Epoch 47 | Training loss: 118108.43350219727 | AUC: 0.9431260207962179\n",
      "Epoch 47 | Validation loss: 43165.474433898926 | AUC: 0.9317748779538643\n",
      "Epoch 48 | Training loss: 118046.57418823242 | AUC: 0.9431896589567756\n",
      "Epoch 48 | Validation loss: 43192.127113342285 | AUC: 0.9319968925152355\n",
      "Epoch 49 | Training loss: 117949.35252380371 | AUC: 0.9433228061392674\n",
      "Epoch 49 | Validation loss: 43438.73799133301 | AUC: 0.931598938950135\n",
      "Epoch 50 | Training loss: 117960.91117858887 | AUC: 0.9433118622541623\n",
      "Epoch 50 | Validation loss: 43305.506271362305 | AUC: 0.9315739949635164\n",
      "Epoch 51 | Training loss: 117898.93913269043 | AUC: 0.9433518952969516\n",
      "Epoch 51 | Validation loss: 43310.387145996094 | AUC: 0.9317386525610961\n",
      "Epoch 52 | Training loss: 117710.81732177734 | AUC: 0.9435821364187507\n",
      "Epoch 52 | Validation loss: 43174.320472717285 | AUC: 0.9315653850165777\n",
      "Epoch 53 | Training loss: 117679.92472839355 | AUC: 0.943614425175784\n",
      "Epoch 53 | Validation loss: 43224.82216644287 | AUC: 0.9318584090857639\n",
      "Epoch 54 | Training loss: 117625.80644226074 | AUC: 0.9436786651403252\n",
      "Epoch 54 | Validation loss: 43523.05975341797 | AUC: 0.9314755876132503\n",
      "Epoch 55 | Training loss: 117604.83232116699 | AUC: 0.9436730866502772\n",
      "Epoch 55 | Validation loss: 43366.11201477051 | AUC: 0.9314196829562413\n",
      "Epoch 56 | Training loss: 117530.03443908691 | AUC: 0.9437579182512313\n",
      "Epoch 56 | Validation loss: 43379.76788330078 | AUC: 0.9313862387618432\n",
      "Epoch 57 | Training loss: 117458.41133117676 | AUC: 0.943878705029511\n",
      "Epoch 57 | Validation loss: 43475.4246673584 | AUC: 0.9309102388169921\n",
      "Epoch 58 | Training loss: 117342.93803405762 | AUC: 0.9439819656211422\n",
      "Epoch 58 | Validation loss: 43299.35933685303 | AUC: 0.9309047230731811\n",
      "Epoch 59 | Training loss: 117331.74705505371 | AUC: 0.9440121069920313\n",
      "Epoch 59 | Validation loss: 43337.57460021973 | AUC: 0.9313718313888695\n",
      "Epoch 60 | Training loss: 117315.00979614258 | AUC: 0.9440191704426005\n",
      "Epoch 60 | Validation loss: 43294.9030456543 | AUC: 0.9313033877921496\n",
      "Epoch 61 | Training loss: 117208.81761169434 | AUC: 0.9441594739814496\n",
      "Epoch 61 | Validation loss: 43394.80587768555 | AUC: 0.9315150019487821\n",
      "Epoch 62 | Training loss: 117158.92071533203 | AUC: 0.9442225604801849\n",
      "Epoch 62 | Validation loss: 43483.06562042236 | AUC: 0.9309260655198552\n",
      "Epoch 63 | Training loss: 117107.7954711914 | AUC: 0.9442757608347919\n",
      "Epoch 63 | Validation loss: 43466.51941680908 | AUC: 0.930843104038968\n",
      "Epoch 64 | Training loss: 117090.46287536621 | AUC: 0.9442360553400607\n",
      "Epoch 64 | Validation loss: 43477.138122558594 | AUC: 0.9311624090375749\n",
      "Epoch 65 | Training loss: 116997.65551757812 | AUC: 0.9444052453475417\n",
      "Epoch 65 | Validation loss: 43871.67450714111 | AUC: 0.9305163909302244\n",
      "Epoch 66 | Training loss: 116964.85195922852 | AUC: 0.9444313354500066\n",
      "Epoch 66 | Validation loss: 43647.71514892578 | AUC: 0.9310601609270265\n",
      "Epoch 67 | Training loss: 116913.66003417969 | AUC: 0.9444675100712938\n",
      "Epoch 67 | Validation loss: 43734.10691833496 | AUC: 0.931136776727245\n",
      "Epoch 68 | Training loss: 116806.40240478516 | AUC: 0.9445667944177634\n",
      "Epoch 68 | Validation loss: 43721.51461791992 | AUC: 0.9307198671837389\n",
      "Epoch 69 | Training loss: 116816.00541687012 | AUC: 0.9445630800002328\n",
      "Epoch 69 | Validation loss: 43661.06505584717 | AUC: 0.9306314790738555\n",
      "Epoch 70 | Training loss: 116773.33726501465 | AUC: 0.9446163767292739\n",
      "Epoch 70 | Validation loss: 43751.45050048828 | AUC: 0.9309465178109977\n",
      "Epoch 71 | Training loss: 116711.63317871094 | AUC: 0.9446975942583027\n",
      "Epoch 71 | Validation loss: 43964.86817932129 | AUC: 0.9309820137416562\n",
      "Epoch 72 | Training loss: 116640.26388549805 | AUC: 0.9447727438994984\n",
      "Epoch 72 | Validation loss: 43888.76039123535 | AUC: 0.9307874027578481\n",
      "Epoch 73 | Training loss: 116589.90116882324 | AUC: 0.9448008496653497\n",
      "Epoch 73 | Validation loss: 43913.87467956543 | AUC: 0.9310073531201197\n",
      "Epoch 74 | Training loss: 116575.03549194336 | AUC: 0.9448067597604235\n",
      "Epoch 74 | Validation loss: 43845.05659484863 | AUC: 0.9304969123948978\n",
      "Epoch 75 | Training loss: 116617.44580078125 | AUC: 0.9447826127003958\n",
      "Epoch 75 | Validation loss: 43769.30059814453 | AUC: 0.9307165348631794\n",
      "Epoch 76 | Training loss: 116498.10694885254 | AUC: 0.9448899855497916\n",
      "Epoch 76 | Validation loss: 44084.835762023926 | AUC: 0.9312252047623304\n",
      "Epoch 77 | Training loss: 116401.83584594727 | AUC: 0.9449990873048143\n",
      "Epoch 77 | Validation loss: 43935.31657409668 | AUC: 0.9306715889019883\n",
      "Epoch 78 | Training loss: 116425.54959106445 | AUC: 0.9449870782266588\n",
      "Epoch 78 | Validation loss: 43819.15538024902 | AUC: 0.931003555152595\n",
      "Epoch 79 | Training loss: 116364.94184875488 | AUC: 0.9450294630973528\n",
      "Epoch 79 | Validation loss: 43916.1456451416 | AUC: 0.930197323056434\n",
      "Epoch 80 | Training loss: 116267.92105102539 | AUC: 0.9451513157428014\n",
      "Epoch 80 | Validation loss: 43997.26313018799 | AUC: 0.9301046236865163\n",
      "Epoch 81 | Training loss: 116328.77177429199 | AUC: 0.9450431097564614\n",
      "Epoch 81 | Validation loss: 43994.58630371094 | AUC: 0.9301760389534937\n",
      "Epoch 82 | Training loss: 116249.12042236328 | AUC: 0.9451761541910348\n",
      "Epoch 82 | Validation loss: 43915.610916137695 | AUC: 0.9305216114260665\n",
      "Epoch 83 | Training loss: 116173.16540527344 | AUC: 0.9452504278948888\n",
      "Epoch 83 | Validation loss: 44103.96650695801 | AUC: 0.9301592336420276\n",
      "Epoch 84 | Training loss: 116230.44166564941 | AUC: 0.9451957955409624\n",
      "Epoch 84 | Validation loss: 44010.81385803223 | AUC: 0.9301867493851435\n",
      "Epoch 85 | Training loss: 116185.5044555664 | AUC: 0.9452282965227609\n",
      "Epoch 85 | Validation loss: 44062.550842285156 | AUC: 0.9305708588314273\n",
      "Epoch 86 | Training loss: 116103.5492401123 | AUC: 0.9453338169802747\n",
      "Epoch 86 | Validation loss: 44214.449630737305 | AUC: 0.9307991769424533\n",
      "Epoch 87 | Training loss: 116071.22494506836 | AUC: 0.9453469542264066\n",
      "Epoch 87 | Validation loss: 44158.0966796875 | AUC: 0.9298764163072649\n",
      "Epoch 88 | Training loss: 116058.49040222168 | AUC: 0.9454024960887766\n",
      "Epoch 88 | Validation loss: 44216.64099884033 | AUC: 0.9300065201868869\n",
      "Epoch 89 | Training loss: 115949.09568786621 | AUC: 0.9454824286130922\n",
      "Epoch 89 | Validation loss: 44356.7841796875 | AUC: 0.9300860477695606\n",
      "Epoch 90 | Training loss: 116018.50717163086 | AUC: 0.9453747113871889\n",
      "Epoch 90 | Validation loss: 43977.744567871094 | AUC: 0.9300637187733594\n",
      "Epoch 91 | Training loss: 115920.68395996094 | AUC: 0.9454803970895357\n",
      "Epoch 91 | Validation loss: 44279.582443237305 | AUC: 0.9297798259948362\n",
      "Epoch 92 | Training loss: 115929.04904174805 | AUC: 0.9455003571381839\n",
      "Epoch 92 | Validation loss: 44166.081298828125 | AUC: 0.9299409455798643\n",
      "Epoch 93 | Training loss: 115915.34422302246 | AUC: 0.9455045483168415\n",
      "Epoch 93 | Validation loss: 44365.238357543945 | AUC: 0.9303961175837475\n",
      "Epoch 94 | Training loss: 115866.28367614746 | AUC: 0.9455762959760532\n",
      "Epoch 94 | Validation loss: 44321.51989746094 | AUC: 0.929733026269034\n",
      "Epoch 95 | Training loss: 115831.14372253418 | AUC: 0.9456153574669821\n",
      "Epoch 95 | Validation loss: 44193.96524810791 | AUC: 0.9301487455562523\n",
      "Epoch 96 | Training loss: 115836.74171447754 | AUC: 0.9455935779969756\n",
      "Epoch 96 | Validation loss: 44317.83174133301 | AUC: 0.9302086728427633\n",
      "Epoch 97 | Training loss: 115741.36015319824 | AUC: 0.94569982087666\n",
      "Epoch 97 | Validation loss: 44302.60063171387 | AUC: 0.930360723782196\n",
      "Epoch 98 | Training loss: 115638.63919067383 | AUC: 0.9457879099040752\n",
      "Epoch 98 | Validation loss: 44363.722496032715 | AUC: 0.9298947043657226\n",
      "Epoch 99 | Training loss: 115673.80635070801 | AUC: 0.9457702004675009\n",
      "Epoch 99 | Validation loss: 44464.01818847656 | AUC: 0.9299326074992847\n",
      "Epoch 100 | Training loss: 115690.04479980469 | AUC: 0.9457520220160341\n",
      "Epoch 100 | Validation loss: 44227.89553833008 | AUC: 0.9303093903401946\n",
      "Epoch 101 | Training loss: 115651.92401123047 | AUC: 0.9458204962292777\n",
      "Epoch 101 | Validation loss: 44532.06945800781 | AUC: 0.9306589152974397\n",
      "Epoch 102 | Training loss: 115690.78639221191 | AUC: 0.9457185547282431\n",
      "Epoch 102 | Validation loss: 44625.99346923828 | AUC: 0.9297012270591182\n",
      "Epoch 103 | Training loss: 115543.86492919922 | AUC: 0.9459019127458352\n",
      "Epoch 103 | Validation loss: 44554.45845031738 | AUC: 0.9295409114926536\n",
      "Epoch 104 | Training loss: 115633.26403808594 | AUC: 0.9457977871130689\n",
      "Epoch 104 | Validation loss: 44333.824531555176 | AUC: 0.9300670975262668\n",
      "Epoch 105 | Training loss: 115505.51495361328 | AUC: 0.9459320287698683\n",
      "Epoch 105 | Validation loss: 44682.42343902588 | AUC: 0.9300111100410079\n",
      "Epoch 106 | Training loss: 115510.98257446289 | AUC: 0.9459310505013361\n",
      "Epoch 106 | Validation loss: 44338.19031524658 | AUC: 0.9292978513869363\n",
      "Epoch 107 | Training loss: 115435.13056945801 | AUC: 0.9459754004152442\n",
      "Epoch 107 | Validation loss: 44772.58345794678 | AUC: 0.9297158122205588\n",
      "Epoch 108 | Training loss: 115538.51351928711 | AUC: 0.9458985997352386\n",
      "Epoch 108 | Validation loss: 44337.91736602783 | AUC: 0.9297025439290287\n",
      "Epoch 109 | Training loss: 115408.5503540039 | AUC: 0.9460267073057665\n",
      "Epoch 109 | Validation loss: 44587.049560546875 | AUC: 0.9301256632751691\n",
      "Epoch 110 | Training loss: 115438.80097961426 | AUC: 0.9460293751972011\n",
      "Epoch 110 | Validation loss: 44588.25772857666 | AUC: 0.9298388888235283\n",
      "Epoch 111 | Training loss: 115464.94902038574 | AUC: 0.9459934345808355\n",
      "Epoch 111 | Validation loss: 44616.63996887207 | AUC: 0.9297639498817788\n",
      "Epoch 112 | Training loss: 115340.76536560059 | AUC: 0.946094851924083\n",
      "Epoch 112 | Validation loss: 44755.02021789551 | AUC: 0.9295022095241865\n",
      "Epoch 113 | Training loss: 115359.68920898438 | AUC: 0.9461069075654428\n",
      "Epoch 113 | Validation loss: 44675.52436065674 | AUC: 0.9298589187016256\n",
      "Epoch 114 | Training loss: 115373.59410095215 | AUC: 0.9460476120518447\n",
      "Epoch 114 | Validation loss: 44569.353927612305 | AUC: 0.9292852648016809\n",
      "Epoch 115 | Training loss: 115302.69616699219 | AUC: 0.9461203774339068\n",
      "Epoch 115 | Validation loss: 44599.52722930908 | AUC: 0.9294232490558414\n",
      "Epoch 116 | Training loss: 115262.90696716309 | AUC: 0.9461764633344316\n",
      "Epoch 116 | Validation loss: 44953.35060119629 | AUC: 0.929139053088425\n",
      "Epoch 117 | Training loss: 115265.94807434082 | AUC: 0.9461781744188162\n",
      "Epoch 117 | Validation loss: 44834.438049316406 | AUC: 0.9293381591867181\n",
      "Epoch 118 | Training loss: 115267.74212646484 | AUC: 0.9462190396425271\n",
      "Epoch 118 | Validation loss: 44578.62773895264 | AUC: 0.9298655825707106\n",
      "Epoch 119 | Training loss: 115176.98222351074 | AUC: 0.9462925902255787\n",
      "Epoch 119 | Validation loss: 44942.40489196777 | AUC: 0.9289796510591022\n",
      "Epoch 120 | Training loss: 115220.04779052734 | AUC: 0.9462209778925946\n",
      "Epoch 120 | Validation loss: 44968.041931152344 | AUC: 0.9293750393748514\n",
      "Epoch 121 | Training loss: 115213.84475708008 | AUC: 0.9462039850317451\n",
      "Epoch 121 | Validation loss: 44831.27111053467 | AUC: 0.9289575417618007\n",
      "Epoch 122 | Training loss: 115170.21461486816 | AUC: 0.9462648153661212\n",
      "Epoch 122 | Validation loss: 44666.04641723633 | AUC: 0.9299754316896767\n",
      "Epoch 123 | Training loss: 115141.20785522461 | AUC: 0.9463185855592372\n",
      "Epoch 123 | Validation loss: 44797.30293273926 | AUC: 0.9294639400052105\n",
      "Epoch 124 | Training loss: 115093.80842590332 | AUC: 0.9463567590890015\n",
      "Epoch 124 | Validation loss: 44766.701164245605 | AUC: 0.9298919061825982\n",
      "Epoch 125 | Training loss: 115127.78175354004 | AUC: 0.946343104941049\n",
      "Epoch 125 | Validation loss: 44939.58882904053 | AUC: 0.929439128257036\n",
      "Epoch 126 | Training loss: 115076.66893005371 | AUC: 0.9463974623771882\n",
      "Epoch 126 | Validation loss: 44861.823570251465 | AUC: 0.9291916932536011\n",
      "Epoch 127 | Training loss: 115085.85566711426 | AUC: 0.9463577800353639\n",
      "Epoch 127 | Validation loss: 44917.14427947998 | AUC: 0.9294472395801165\n",
      "Epoch 128 | Training loss: 115009.47911071777 | AUC: 0.9464443862471803\n",
      "Epoch 128 | Validation loss: 44828.44795227051 | AUC: 0.929178710614757\n",
      "Epoch 129 | Training loss: 115020.7293548584 | AUC: 0.9464198636663695\n",
      "Epoch 129 | Validation loss: 44845.88665008545 | AUC: 0.9294976629039856\n",
      "Epoch 130 | Training loss: 114992.5131072998 | AUC: 0.9464525212397707\n",
      "Epoch 130 | Validation loss: 44939.92769622803 | AUC: 0.9290717336839162\n",
      "Epoch 131 | Training loss: 115031.9194946289 | AUC: 0.946434256623701\n",
      "Epoch 131 | Validation loss: 44701.325775146484 | AUC: 0.9288599992002256\n",
      "Epoch 132 | Training loss: 114947.81077575684 | AUC: 0.9465210818995212\n",
      "Epoch 132 | Validation loss: 44724.19694519043 | AUC: 0.9298897112891232\n",
      "Epoch 133 | Training loss: 114984.01156616211 | AUC: 0.9464462348639986\n",
      "Epoch 133 | Validation loss: 44828.124099731445 | AUC: 0.9289998767030363\n",
      "Epoch 134 | Training loss: 114937.01635742188 | AUC: 0.9465363782737162\n",
      "Epoch 134 | Validation loss: 44947.89929962158 | AUC: 0.9289873562921483\n",
      "Epoch 135 | Training loss: 114995.19599914551 | AUC: 0.9464543856187057\n",
      "Epoch 135 | Validation loss: 45198.38008880615 | AUC: 0.9286875154910886\n",
      "Epoch 136 | Training loss: 114924.27415466309 | AUC: 0.9465266429973115\n",
      "Epoch 136 | Validation loss: 44987.00444030762 | AUC: 0.9297041933251355\n",
      "Epoch 137 | Training loss: 114887.81851196289 | AUC: 0.9465640549815179\n",
      "Epoch 137 | Validation loss: 44891.18370819092 | AUC: 0.9292317911703478\n",
      "Epoch 138 | Training loss: 114838.57995605469 | AUC: 0.9466585772690012\n",
      "Epoch 138 | Validation loss: 44790.56661987305 | AUC: 0.9295743274526549\n",
      "Epoch 139 | Training loss: 114859.14729309082 | AUC: 0.946601502718519\n",
      "Epoch 139 | Validation loss: 44948.3083114624 | AUC: 0.9296041545561324\n",
      "Epoch 140 | Training loss: 114805.03562927246 | AUC: 0.9466418207663596\n",
      "Epoch 140 | Validation loss: 45157.3648147583 | AUC: 0.9290625725044971\n",
      "Epoch 141 | Training loss: 114792.93223571777 | AUC: 0.94668391499392\n",
      "Epoch 141 | Validation loss: 45179.88328552246 | AUC: 0.9290192570797181\n",
      "Epoch 142 | Training loss: 114871.37684631348 | AUC: 0.9465751973761405\n",
      "Epoch 142 | Validation loss: 44991.46656036377 | AUC: 0.9290983353384372\n",
      "Epoch 143 | Training loss: 114809.10125732422 | AUC: 0.9466369878881593\n",
      "Epoch 143 | Validation loss: 45069.39415740967 | AUC: 0.9293315586244446\n",
      "Epoch 144 | Training loss: 114829.61988830566 | AUC: 0.9466126967383631\n",
      "Epoch 144 | Validation loss: 45070.88188171387 | AUC: 0.9292380627357248\n",
      "Epoch 145 | Training loss: 114801.58926391602 | AUC: 0.9466775622848861\n",
      "Epoch 145 | Validation loss: 45401.02057647705 | AUC: 0.9295859934421696\n",
      "Epoch 146 | Training loss: 114692.36270141602 | AUC: 0.9467635304864265\n",
      "Epoch 146 | Validation loss: 44973.80628967285 | AUC: 0.9293370320166605\n",
      "Epoch 147 | Training loss: 114741.40495300293 | AUC: 0.9467267158815346\n",
      "Epoch 147 | Validation loss: 45031.40058898926 | AUC: 0.9292113973332298\n",
      "Epoch 148 | Training loss: 114753.00077819824 | AUC: 0.946706063991183\n",
      "Epoch 148 | Validation loss: 44921.62771606445 | AUC: 0.9292285392516445\n",
      "Epoch 149 | Training loss: 114680.55876159668 | AUC: 0.946745774400851\n",
      "Epoch 149 | Validation loss: 45287.13970184326 | AUC: 0.9284043965115012\n",
      "Epoch 150 | Training loss: 114654.09466552734 | AUC: 0.946815300631192\n",
      "Epoch 150 | Validation loss: 45135.12239074707 | AUC: 0.9293852742333811\n",
      "Epoch 151 | Training loss: 114677.88604736328 | AUC: 0.946775290643256\n",
      "Epoch 151 | Validation loss: 45378.470275878906 | AUC: 0.9283156060614641\n",
      "Epoch 152 | Training loss: 114623.63229370117 | AUC: 0.9468297854647488\n",
      "Epoch 152 | Validation loss: 45361.28868865967 | AUC: 0.9289716543279677\n",
      "Epoch 153 | Training loss: 114726.14144897461 | AUC: 0.9467088363464741\n",
      "Epoch 153 | Validation loss: 45149.54529571533 | AUC: 0.9288003901021308\n",
      "Epoch 154 | Training loss: 114718.08116149902 | AUC: 0.9467132807730727\n",
      "Epoch 154 | Validation loss: 45179.67205810547 | AUC: 0.9291676068867838\n",
      "Epoch 155 | Training loss: 114653.59649658203 | AUC: 0.9468080630619388\n",
      "Epoch 155 | Validation loss: 44954.259765625 | AUC: 0.9295058472394517\n",
      "Epoch 156 | Training loss: 114584.51922607422 | AUC: 0.9468845282025178\n",
      "Epoch 156 | Validation loss: 44981.90029144287 | AUC: 0.9290127470660372\n",
      "Epoch 157 | Training loss: 114562.87664794922 | AUC: 0.946894732211911\n",
      "Epoch 157 | Validation loss: 45231.44741821289 | AUC: 0.9287317978336654\n",
      "Epoch 158 | Training loss: 114578.1264038086 | AUC: 0.9468643470797669\n",
      "Epoch 158 | Validation loss: 45041.03929901123 | AUC: 0.929200384815593\n",
      "Epoch 159 | Training loss: 114543.72674560547 | AUC: 0.9469268319215992\n",
      "Epoch 159 | Validation loss: 45157.51885223389 | AUC: 0.928803567243799\n",
      "Epoch 160 | Training loss: 114653.18363952637 | AUC: 0.9467933518838982\n",
      "Epoch 160 | Validation loss: 45463.70259857178 | AUC: 0.9288419794788275\n",
      "Epoch 161 | Training loss: 114563.27653503418 | AUC: 0.9468978033978113\n",
      "Epoch 161 | Validation loss: 45214.03402709961 | AUC: 0.9283014653711911\n",
      "Epoch 162 | Training loss: 114465.63056945801 | AUC: 0.9469954925837673\n",
      "Epoch 162 | Validation loss: 45458.65779876709 | AUC: 0.9287828804748148\n",
      "Epoch 163 | Training loss: 114497.00569152832 | AUC: 0.9469738763362383\n",
      "Epoch 163 | Validation loss: 45256.49733734131 | AUC: 0.928578738066002\n",
      "Epoch 164 | Training loss: 114497.78810119629 | AUC: 0.9469617262815163\n",
      "Epoch 164 | Validation loss: 45470.90101623535 | AUC: 0.9289440055743734\n",
      "Epoch 165 | Training loss: 114511.40539550781 | AUC: 0.9469529883573261\n",
      "Epoch 165 | Validation loss: 45260.5771484375 | AUC: 0.9291247745348865\n",
      "Epoch 166 | Training loss: 114470.76379394531 | AUC: 0.9469760050309145\n",
      "Epoch 166 | Validation loss: 45556.064453125 | AUC: 0.9285500938293414\n",
      "Epoch 167 | Training loss: 114440.69775390625 | AUC: 0.9469952621578022\n",
      "Epoch 167 | Validation loss: 45265.38642883301 | AUC: 0.9289365720973959\n",
      "Epoch 168 | Training loss: 114463.11250305176 | AUC: 0.9469659393383839\n",
      "Epoch 168 | Validation loss: 45603.06057739258 | AUC: 0.929234401418269\n",
      "Epoch 169 | Training loss: 114377.28761291504 | AUC: 0.9470861205866435\n",
      "Epoch 169 | Validation loss: 45306.133445739746 | AUC: 0.9293466316012634\n",
      "Epoch 170 | Training loss: 114468.68753051758 | AUC: 0.9469754479393739\n",
      "Epoch 170 | Validation loss: 45247.59895324707 | AUC: 0.9285118763675341\n",
      "Epoch 171 | Training loss: 114419.87338256836 | AUC: 0.9470275174785571\n",
      "Epoch 171 | Validation loss: 45338.27394104004 | AUC: 0.928916922391039\n",
      "Epoch 172 | Training loss: 114399.41148376465 | AUC: 0.9470570231066598\n",
      "Epoch 172 | Validation loss: 45506.89310455322 | AUC: 0.9285699550730926\n",
      "Epoch 173 | Training loss: 114398.30270385742 | AUC: 0.9470374547944092\n",
      "Epoch 173 | Validation loss: 45462.31288146973 | AUC: 0.9291546765256897\n",
      "Epoch 174 | Training loss: 114395.75816345215 | AUC: 0.9470621382076406\n",
      "Epoch 174 | Validation loss: 45296.682205200195 | AUC: 0.9287394373335067\n",
      "Epoch 175 | Training loss: 114425.72994995117 | AUC: 0.9470665070349121\n",
      "Epoch 175 | Validation loss: 45484.188720703125 | AUC: 0.9287851041541396\n",
      "Epoch 176 | Training loss: 114327.93110656738 | AUC: 0.9471449076800577\n",
      "Epoch 176 | Validation loss: 45132.81095123291 | AUC: 0.9292555441286442\n",
      "Epoch 177 | Training loss: 114345.4627532959 | AUC: 0.9471021414053648\n",
      "Epoch 177 | Validation loss: 45449.45304107666 | AUC: 0.9283023538723635\n",
      "Epoch 178 | Training loss: 114397.38130187988 | AUC: 0.9470864130192552\n",
      "Epoch 178 | Validation loss: 45684.46000671387 | AUC: 0.9290105860317801\n",
      "Epoch 179 | Training loss: 114248.94761657715 | AUC: 0.9472183002742426\n",
      "Epoch 179 | Validation loss: 45611.23355102539 | AUC: 0.9283914906349233\n",
      "Epoch 180 | Training loss: 114265.27447509766 | AUC: 0.9472045466999376\n",
      "Epoch 180 | Validation loss: 45255.076805114746 | AUC: 0.9290940240784029\n",
      "Epoch 181 | Training loss: 114266.24409484863 | AUC: 0.9471755848280857\n",
      "Epoch 181 | Validation loss: 45624.95574951172 | AUC: 0.9286575721413056\n",
      "Epoch 182 | Training loss: 114239.30554199219 | AUC: 0.9472120939102099\n",
      "Epoch 182 | Validation loss: 45759.92455291748 | AUC: 0.9289487771874234\n",
      "Epoch 183 | Training loss: 114227.24549865723 | AUC: 0.9472326791976523\n",
      "Epoch 183 | Validation loss: 45816.52111053467 | AUC: 0.9284303538482654\n",
      "Epoch 184 | Training loss: 114253.66804504395 | AUC: 0.9472043838206478\n",
      "Epoch 184 | Validation loss: 45586.42886352539 | AUC: 0.928603868002593\n",
      "Epoch 185 | Training loss: 114184.18286132812 | AUC: 0.9472814646397948\n",
      "Epoch 185 | Validation loss: 45570.85332489014 | AUC: 0.9288892619466398\n",
      "Epoch 186 | Training loss: 114181.92909240723 | AUC: 0.9472678786513524\n",
      "Epoch 186 | Validation loss: 45522.24577331543 | AUC: 0.9287199447912724\n",
      "Epoch 187 | Training loss: 114176.45495605469 | AUC: 0.9472741974951238\n",
      "Epoch 187 | Validation loss: 45604.40953826904 | AUC: 0.9283771073053031\n",
      "Epoch 188 | Training loss: 114193.89402770996 | AUC: 0.9472973168921172\n",
      "Epoch 188 | Validation loss: 45652.76052093506 | AUC: 0.928829632444782\n",
      "Epoch 189 | Training loss: 114069.34666442871 | AUC: 0.9473838346228142\n",
      "Epoch 189 | Validation loss: 45846.81671142578 | AUC: 0.9288408362063405\n",
      "Epoch 190 | Training loss: 114177.75776672363 | AUC: 0.9472806806277053\n",
      "Epoch 190 | Validation loss: 45541.32392883301 | AUC: 0.9282537178078665\n",
      "Epoch 191 | Training loss: 114139.75549316406 | AUC: 0.9473203305015305\n",
      "Epoch 191 | Validation loss: 45688.16889953613 | AUC: 0.9286970989732619\n",
      "Epoch 192 | Training loss: 114139.24032592773 | AUC: 0.9472800153707847\n",
      "Epoch 192 | Validation loss: 45804.95420837402 | AUC: 0.9284182178001612\n",
      "Epoch 193 | Training loss: 114089.35255432129 | AUC: 0.947351560218377\n",
      "Epoch 193 | Validation loss: 45922.90776824951 | AUC: 0.9284389300462768\n",
      "Epoch 194 | Training loss: 114114.17756652832 | AUC: 0.9473408717138787\n",
      "Epoch 194 | Validation loss: 45720.9193649292 | AUC: 0.9289243685514369\n",
      "Epoch 195 | Training loss: 114127.99249267578 | AUC: 0.9473070898701319\n",
      "Epoch 195 | Validation loss: 45597.99755859375 | AUC: 0.9282952761929013\n",
      "Epoch 196 | Training loss: 114091.07070922852 | AUC: 0.9473498087481649\n",
      "Epoch 196 | Validation loss: 45874.3597946167 | AUC: 0.9285589424451651\n",
      "Epoch 197 | Training loss: 114074.90023803711 | AUC: 0.947388844303916\n",
      "Epoch 197 | Validation loss: 45675.87922668457 | AUC: 0.9281574464558886\n",
      "Epoch 198 | Training loss: 114050.10563659668 | AUC: 0.9473868500529851\n",
      "Epoch 198 | Validation loss: 45648.61862182617 | AUC: 0.9277351161287886\n",
      "Epoch 199 | Training loss: 114125.20196533203 | AUC: 0.9472912273834648\n",
      "Epoch 199 | Validation loss: 45642.02178955078 | AUC: 0.9286918695438804\n"
     ]
    }
   ],
   "source": [
    "nnet.to(device)\n",
    "\n",
    "# Trainning data\n",
    "loss_list = []\n",
    "train_auc = []\n",
    "# Validation:\n",
    "loss_list_val = []\n",
    "valid_auc = []\n",
    "#Test:\n",
    "loss_list_test = []\n",
    "test_auc = []\n",
    "# Se corren 200 epochs\n",
    "for epoch in range(200):\n",
    "    running_loss = 0\n",
    "    # En cada Epoch reinciamos el loss\n",
    "    running_y_score = []\n",
    "    running_y_label = []\n",
    "\n",
    "    # Validation:\n",
    "    running_loss_val = 0\n",
    "    running_y_score_val = []\n",
    "    running_y_label_val = []\n",
    "\n",
    "    # Test:\n",
    "    running_loss_test = 0\n",
    "    running_y_score_test = []\n",
    "    running_y_label_test = []\n",
    "    \n",
    "    # Train \n",
    "    nnet.train()\n",
    "\n",
    "    # Recorremos los batches\n",
    "    for i, data in enumerate(train_dataloader):\n",
    "\n",
    "       \n",
    "        X_batch, y_batch = data \n",
    "        X_batch = X_batch.to(device).float()\n",
    "        Y_batch = y_batch.to(device).float()\n",
    "      \n",
    "        # Forward:\n",
    "        optimizer.zero_grad()\n",
    "        \n",
    "        # Backpropagation:\n",
    "        y_batch_output = nnet(X_batch).reshape(-1)\n",
    "        y_batch_score = torch.sigmoid(y_batch_output).reshape(-1)\n",
    "\n",
    "        \n",
    "        # Calcula el loss.\n",
    "        loss = loss_function(y_batch_output, Y_batch)\n",
    "        \n",
    "        # Gradiente del loss\n",
    "        loss.backward()\n",
    "    \n",
    "\n",
    "        # Actualización de parametros:\n",
    "        optimizer.step() \n",
    "\n",
    "        running_loss += loss.item()\n",
    "        \n",
    "        running_y_score += list(y_batch_score.detach().cpu().numpy()) \n",
    "        running_y_label += list(Y_batch.detach().cpu().numpy()) \n",
    "\n",
    "\n",
    "    # Validacion\n",
    "    nnet.eval()\n",
    "    with torch.no_grad():\n",
    "\n",
    "      # Dataset de validación\n",
    "      for i, data in enumerate(test_dataloader):\n",
    "          X_batch_val, y_batch_val = data \n",
    "          X_batch_val = X_batch_val.to(device).float()\n",
    "          Y_batch_val = y_batch_val.to(device).float()\n",
    "\n",
    "          # Forward\n",
    "          y_batch_output_val = nnet(X_batch_val).reshape(-1)\n",
    "          y_batch_score_val = torch.sigmoid(y_batch_output_val).reshape(-1)\n",
    "\n",
    "          # Loss Function\n",
    "          loss_val = loss_function(y_batch_output_val, Y_batch_val)\n",
    "\n",
    "          running_loss_val += loss_val.item()\n",
    "          running_y_score_val += list(y_batch_score_val.detach().cpu().numpy())  \n",
    "          running_y_label_val += list(Y_batch_val.detach().cpu().numpy()) \n",
    "\n",
    "    # Testing\n",
    "    nnet.eval()\n",
    "    with torch.no_grad():\n",
    "\n",
    "      for i, data in enumerate(test_dataloader):\n",
    "          X_batch_test, y_batch_test = data \n",
    "          X_batch_test = X_batch_test.to(device).float()\n",
    "          Y_batch_test = y_batch_test.to(device).float()\n",
    "\n",
    "          # Forward\n",
    "          y_batch_output_test = nnet(X_batch_test).reshape(-1)\n",
    "          y_batch_score_test = torch.sigmoid(y_batch_output_test).reshape(-1)\n",
    "\n",
    "          # Función de pérdida\n",
    "          loss_test = loss_function(y_batch_output_test, Y_batch_test)\n",
    "\n",
    "          running_loss_test += loss_test.item()\n",
    "          running_y_score_test += list(y_batch_score_test.detach().cpu().numpy())  \n",
    "          running_y_label_test += list(Y_batch_test.detach().cpu().numpy())     \n",
    "\n",
    "    #Metricas\n",
    "    \n",
    "    #Training:\n",
    "    loss_list.append(running_loss)\n",
    "    fpt, tpr, _ = metrics.roc_curve(running_y_label, running_y_score)\n",
    "    auc = metrics.auc(fpt, tpr)\n",
    "    train_auc.append(auc)\n",
    "    print(f\"Epoch {epoch} | Training loss: {running_loss} | AUC: {auc}\")\n",
    "\n",
    "    #Validation:\n",
    "    loss_list_val.append(running_loss_val)\n",
    "    fpt_val, tpr_val, _ = metrics.roc_curve(running_y_label_val, running_y_score_val)\n",
    "    auc_val = metrics.auc(fpt_val, tpr_val)\n",
    "    valid_auc.append(auc_val)\n",
    "    print(f\"Epoch {epoch} | Validation loss: {running_loss_val} | AUC: {auc_val}\")\n",
    "\n",
    "    \n"
   ]
  },
  {
   "cell_type": "markdown",
   "metadata": {},
   "source": [
    "### Resultados"
   ]
  },
  {
   "cell_type": "code",
   "execution_count": 44,
   "metadata": {},
   "outputs": [
    {
     "data": {
      "image/png": "[encoded data removed]",
      "text/plain": [
       "<Figure size 640x480 with 1 Axes>"
      ]
     },
     "metadata": {},
     "output_type": "display_data"
    }
   ],
   "source": [
    "# Se plotea el loss para cada epoch de entrenamiento y validación.\n",
    "fig, ax1 = plt.subplots(1,1)\n",
    "x = range(0, len(loss_list))\n",
    "ax1.plot(x, loss_list,label='training')\n",
    "x = range(0, len(loss_list_val))\n",
    "ax1.plot(x, loss_list_val,label='validation',c='g')\n",
    "plt.title(\"Training y Validation Loss por Epoch\")\n",
    "plt.ylabel(\"loss - function\")\n",
    "plt.xlabel(\"Epochs\")\n",
    "plt.legend()\n",
    "plt.show()"
   ]
  },
  {
   "cell_type": "code",
   "execution_count": 45,
   "metadata": {},
   "outputs": [
    {
     "data": {
      "image/png": "[encoded data removed]",
      "text/plain": [
       "<Figure size 640x480 with 1 Axes>"
      ]
     },
     "metadata": {},
     "output_type": "display_data"
    }
   ],
   "source": [
    "# Se plotea el loss para cada epoch de validación.\n",
    "fig, ax1 = plt.subplots(1,1)\n",
    "x = range(0, len(loss_list_val))\n",
    "ax1.plot(x, loss_list_val,label='validation', c='g')\n",
    "plt.title(\"Validation loss por epoch\")\n",
    "plt.ylabel(\"loss\")\n",
    "plt.xlabel(\"epochs\")\n",
    "plt.legend()\n",
    "plt.show()"
   ]
  },
  {
   "cell_type": "markdown",
   "metadata": {},
   "source": [
    "#### Implementación de Embeddings"
   ]
  },
  {
   "cell_type": "code",
   "execution_count": 46,
   "metadata": {},
   "outputs": [],
   "source": [
    "class DatasetEmbeddings(Dataset): \n",
    "\n",
    "    def __init__(self, X, user_idx, product_idx, y):\n",
    "        super().__init__()\n",
    "        self.X = X\n",
    "        self.user_idx = user_idx\n",
    "        self.product_idx = product_idx\n",
    "        self.y = y\n",
    "\n",
    "    def __len__(self):\n",
    "        return self.X.shape[0]\n",
    "\n",
    "    def __getitem__(self, idx):\n",
    "        return self.X[idx], self.user_idx[idx], self.product_idx[idx], self.y[idx]"
   ]
  },
  {
   "cell_type": "code",
   "execution_count": 47,
   "metadata": {},
   "outputs": [
    {
     "name": "stdout",
     "output_type": "stream",
     "text": [
      "0\n",
      "5890\n"
     ]
    }
   ],
   "source": [
    "# Se obtienen los user ids que antes no se tuvieron en cuenta en el calculo sin embeddings\n",
    "user_id = dataset.User_ID\n",
    "unique = np.unique(user_id)\n",
    "index = np.arange(0, len(unique))\n",
    "user_id_to_index = {key: value for key, value in zip(unique, index)}\n",
    "user_idx = np.array([user_id_to_index[user] for user in user_id])\n",
    "print(min(user_idx))\n",
    "print(max(user_idx))"
   ]
  },
  {
   "cell_type": "code",
   "execution_count": 48,
   "metadata": {},
   "outputs": [
    {
     "name": "stdout",
     "output_type": "stream",
     "text": [
      "0\n",
      "3630\n"
     ]
    }
   ],
   "source": [
    "# Se obtienen los products ids que antes no se tuvieron en cuenta\n",
    "product_id = dataset.Product_ID\n",
    "unique = np.unique(product_id)\n",
    "index = np.arange(0, len(unique))\n",
    "product_id_to_index = {key: value for key, value in zip(unique, index)}\n",
    "product_idx = np.array([product_id_to_index[product] for product in product_id])\n",
    "print(min(product_idx))\n",
    "print(max(product_idx))"
   ]
  },
  {
   "cell_type": "code",
   "execution_count": 49,
   "metadata": {},
   "outputs": [],
   "source": [
    "\n",
    "\n",
    "X = dataset.drop(columns=['Purchase', 'Product_ID', 'User_ID'])\n",
    "y = dataset['Purchase']\n",
    "\n",
    "# Se aplica normalización\n",
    "X_norm = (X - np.min(X, axis=0)) / (np.max(X, axis=0) - np.min(X, axis=0))"
   ]
  },
  {
   "cell_type": "code",
   "execution_count": 50,
   "metadata": {},
   "outputs": [],
   "source": [
    "ds_indices = [user_id_to_index[u_id] for u_id in dataset.User_ID]\n",
    "dataset[\"user_idx\"] = ds_indices\n"
   ]
  },
  {
   "cell_type": "code",
   "execution_count": 51,
   "metadata": {},
   "outputs": [],
   "source": [
    "ds_indices = [product_id_to_index[p_id] for p_id in dataset.Product_ID]\n",
    "dataset[\"product_idx\"] = ds_indices"
   ]
  },
  {
   "cell_type": "code",
   "execution_count": 52,
   "metadata": {},
   "outputs": [
    {
     "data": {
      "text/html": [
       "<div>\n",
       "<style scoped>\n",
       "    .dataframe tbody tr th:only-of-type {\n",
       "        vertical-align: middle;\n",
       "    }\n",
       "\n",
       "    .dataframe tbody tr th {\n",
       "        vertical-align: top;\n",
       "    }\n",
       "\n",
       "    .dataframe thead th {\n",
       "        text-align: right;\n",
       "    }\n",
       "</style>\n",
       "<table border=\"1\" class=\"dataframe\">\n",
       "  <thead>\n",
       "    <tr style=\"text-align: right;\">\n",
       "      <th></th>\n",
       "      <th>user_idx</th>\n",
       "      <th>product_idx</th>\n",
       "      <th>Gender</th>\n",
       "      <th>Marital_Status</th>\n",
       "      <th>Occupation_0</th>\n",
       "      <th>Occupation_1</th>\n",
       "      <th>Occupation_2</th>\n",
       "      <th>Occupation_3</th>\n",
       "      <th>Occupation_4</th>\n",
       "      <th>Occupation_5</th>\n",
       "      <th>...</th>\n",
       "      <th>Product_Category_3_9</th>\n",
       "      <th>Product_Category_3_10</th>\n",
       "      <th>Product_Category_3_11</th>\n",
       "      <th>Product_Category_3_12</th>\n",
       "      <th>Product_Category_3_13</th>\n",
       "      <th>Product_Category_3_14</th>\n",
       "      <th>Product_Category_3_15</th>\n",
       "      <th>Product_Category_3_16</th>\n",
       "      <th>Product_Category_3_17</th>\n",
       "      <th>Product_Category_3_18</th>\n",
       "    </tr>\n",
       "  </thead>\n",
       "  <tbody>\n",
       "    <tr>\n",
       "      <th>0</th>\n",
       "      <td>0</td>\n",
       "      <td>672</td>\n",
       "      <td>1.0</td>\n",
       "      <td>0.0</td>\n",
       "      <td>0.0</td>\n",
       "      <td>0.0</td>\n",
       "      <td>0.0</td>\n",
       "      <td>0.0</td>\n",
       "      <td>0.0</td>\n",
       "      <td>0.0</td>\n",
       "      <td>...</td>\n",
       "      <td>0.0</td>\n",
       "      <td>0.0</td>\n",
       "      <td>0.0</td>\n",
       "      <td>0.0</td>\n",
       "      <td>0.0</td>\n",
       "      <td>0.0</td>\n",
       "      <td>0.0</td>\n",
       "      <td>0.0</td>\n",
       "      <td>0.0</td>\n",
       "      <td>0.0</td>\n",
       "    </tr>\n",
       "    <tr>\n",
       "      <th>1</th>\n",
       "      <td>0</td>\n",
       "      <td>2376</td>\n",
       "      <td>1.0</td>\n",
       "      <td>0.0</td>\n",
       "      <td>0.0</td>\n",
       "      <td>0.0</td>\n",
       "      <td>0.0</td>\n",
       "      <td>0.0</td>\n",
       "      <td>0.0</td>\n",
       "      <td>0.0</td>\n",
       "      <td>...</td>\n",
       "      <td>0.0</td>\n",
       "      <td>0.0</td>\n",
       "      <td>0.0</td>\n",
       "      <td>0.0</td>\n",
       "      <td>0.0</td>\n",
       "      <td>1.0</td>\n",
       "      <td>0.0</td>\n",
       "      <td>0.0</td>\n",
       "      <td>0.0</td>\n",
       "      <td>0.0</td>\n",
       "    </tr>\n",
       "    <tr>\n",
       "      <th>2</th>\n",
       "      <td>0</td>\n",
       "      <td>852</td>\n",
       "      <td>1.0</td>\n",
       "      <td>0.0</td>\n",
       "      <td>0.0</td>\n",
       "      <td>0.0</td>\n",
       "      <td>0.0</td>\n",
       "      <td>0.0</td>\n",
       "      <td>0.0</td>\n",
       "      <td>0.0</td>\n",
       "      <td>...</td>\n",
       "      <td>0.0</td>\n",
       "      <td>0.0</td>\n",
       "      <td>0.0</td>\n",
       "      <td>0.0</td>\n",
       "      <td>0.0</td>\n",
       "      <td>0.0</td>\n",
       "      <td>0.0</td>\n",
       "      <td>0.0</td>\n",
       "      <td>0.0</td>\n",
       "      <td>0.0</td>\n",
       "    </tr>\n",
       "    <tr>\n",
       "      <th>3</th>\n",
       "      <td>0</td>\n",
       "      <td>828</td>\n",
       "      <td>1.0</td>\n",
       "      <td>0.0</td>\n",
       "      <td>0.0</td>\n",
       "      <td>0.0</td>\n",
       "      <td>0.0</td>\n",
       "      <td>0.0</td>\n",
       "      <td>0.0</td>\n",
       "      <td>0.0</td>\n",
       "      <td>...</td>\n",
       "      <td>0.0</td>\n",
       "      <td>0.0</td>\n",
       "      <td>0.0</td>\n",
       "      <td>0.0</td>\n",
       "      <td>0.0</td>\n",
       "      <td>0.0</td>\n",
       "      <td>0.0</td>\n",
       "      <td>0.0</td>\n",
       "      <td>0.0</td>\n",
       "      <td>0.0</td>\n",
       "    </tr>\n",
       "    <tr>\n",
       "      <th>4</th>\n",
       "      <td>1</td>\n",
       "      <td>2734</td>\n",
       "      <td>0.0</td>\n",
       "      <td>0.0</td>\n",
       "      <td>0.0</td>\n",
       "      <td>0.0</td>\n",
       "      <td>0.0</td>\n",
       "      <td>0.0</td>\n",
       "      <td>0.0</td>\n",
       "      <td>0.0</td>\n",
       "      <td>...</td>\n",
       "      <td>0.0</td>\n",
       "      <td>0.0</td>\n",
       "      <td>0.0</td>\n",
       "      <td>0.0</td>\n",
       "      <td>0.0</td>\n",
       "      <td>0.0</td>\n",
       "      <td>0.0</td>\n",
       "      <td>0.0</td>\n",
       "      <td>0.0</td>\n",
       "      <td>0.0</td>\n",
       "    </tr>\n",
       "    <tr>\n",
       "      <th>...</th>\n",
       "      <td>...</td>\n",
       "      <td>...</td>\n",
       "      <td>...</td>\n",
       "      <td>...</td>\n",
       "      <td>...</td>\n",
       "      <td>...</td>\n",
       "      <td>...</td>\n",
       "      <td>...</td>\n",
       "      <td>...</td>\n",
       "      <td>...</td>\n",
       "      <td>...</td>\n",
       "      <td>...</td>\n",
       "      <td>...</td>\n",
       "      <td>...</td>\n",
       "      <td>...</td>\n",
       "      <td>...</td>\n",
       "      <td>...</td>\n",
       "      <td>...</td>\n",
       "      <td>...</td>\n",
       "      <td>...</td>\n",
       "      <td>...</td>\n",
       "    </tr>\n",
       "    <tr>\n",
       "      <th>550063</th>\n",
       "      <td>5883</td>\n",
       "      <td>3567</td>\n",
       "      <td>0.0</td>\n",
       "      <td>1.0</td>\n",
       "      <td>0.0</td>\n",
       "      <td>0.0</td>\n",
       "      <td>0.0</td>\n",
       "      <td>0.0</td>\n",
       "      <td>0.0</td>\n",
       "      <td>0.0</td>\n",
       "      <td>...</td>\n",
       "      <td>0.0</td>\n",
       "      <td>0.0</td>\n",
       "      <td>0.0</td>\n",
       "      <td>0.0</td>\n",
       "      <td>0.0</td>\n",
       "      <td>0.0</td>\n",
       "      <td>0.0</td>\n",
       "      <td>0.0</td>\n",
       "      <td>0.0</td>\n",
       "      <td>0.0</td>\n",
       "    </tr>\n",
       "    <tr>\n",
       "      <th>550064</th>\n",
       "      <td>5885</td>\n",
       "      <td>3568</td>\n",
       "      <td>1.0</td>\n",
       "      <td>0.0</td>\n",
       "      <td>0.0</td>\n",
       "      <td>1.0</td>\n",
       "      <td>0.0</td>\n",
       "      <td>0.0</td>\n",
       "      <td>0.0</td>\n",
       "      <td>0.0</td>\n",
       "      <td>...</td>\n",
       "      <td>0.0</td>\n",
       "      <td>0.0</td>\n",
       "      <td>0.0</td>\n",
       "      <td>0.0</td>\n",
       "      <td>0.0</td>\n",
       "      <td>0.0</td>\n",
       "      <td>0.0</td>\n",
       "      <td>0.0</td>\n",
       "      <td>0.0</td>\n",
       "      <td>0.0</td>\n",
       "    </tr>\n",
       "    <tr>\n",
       "      <th>550065</th>\n",
       "      <td>5886</td>\n",
       "      <td>3568</td>\n",
       "      <td>1.0</td>\n",
       "      <td>1.0</td>\n",
       "      <td>0.0</td>\n",
       "      <td>0.0</td>\n",
       "      <td>0.0</td>\n",
       "      <td>0.0</td>\n",
       "      <td>0.0</td>\n",
       "      <td>0.0</td>\n",
       "      <td>...</td>\n",
       "      <td>0.0</td>\n",
       "      <td>0.0</td>\n",
       "      <td>0.0</td>\n",
       "      <td>0.0</td>\n",
       "      <td>0.0</td>\n",
       "      <td>0.0</td>\n",
       "      <td>0.0</td>\n",
       "      <td>0.0</td>\n",
       "      <td>0.0</td>\n",
       "      <td>0.0</td>\n",
       "    </tr>\n",
       "    <tr>\n",
       "      <th>550066</th>\n",
       "      <td>5888</td>\n",
       "      <td>3568</td>\n",
       "      <td>1.0</td>\n",
       "      <td>0.0</td>\n",
       "      <td>0.0</td>\n",
       "      <td>1.0</td>\n",
       "      <td>0.0</td>\n",
       "      <td>0.0</td>\n",
       "      <td>0.0</td>\n",
       "      <td>0.0</td>\n",
       "      <td>...</td>\n",
       "      <td>0.0</td>\n",
       "      <td>0.0</td>\n",
       "      <td>0.0</td>\n",
       "      <td>0.0</td>\n",
       "      <td>0.0</td>\n",
       "      <td>0.0</td>\n",
       "      <td>0.0</td>\n",
       "      <td>0.0</td>\n",
       "      <td>0.0</td>\n",
       "      <td>0.0</td>\n",
       "    </tr>\n",
       "    <tr>\n",
       "      <th>550067</th>\n",
       "      <td>5889</td>\n",
       "      <td>3566</td>\n",
       "      <td>1.0</td>\n",
       "      <td>1.0</td>\n",
       "      <td>1.0</td>\n",
       "      <td>0.0</td>\n",
       "      <td>0.0</td>\n",
       "      <td>0.0</td>\n",
       "      <td>0.0</td>\n",
       "      <td>0.0</td>\n",
       "      <td>...</td>\n",
       "      <td>0.0</td>\n",
       "      <td>0.0</td>\n",
       "      <td>0.0</td>\n",
       "      <td>0.0</td>\n",
       "      <td>0.0</td>\n",
       "      <td>0.0</td>\n",
       "      <td>0.0</td>\n",
       "      <td>0.0</td>\n",
       "      <td>0.0</td>\n",
       "      <td>0.0</td>\n",
       "    </tr>\n",
       "  </tbody>\n",
       "</table>\n",
       "<p>550068 rows × 87 columns</p>\n",
       "</div>"
      ],
      "text/plain": [
       "        user_idx  product_idx  Gender  Marital_Status  Occupation_0  \\\n",
       "0              0          672     1.0             0.0           0.0   \n",
       "1              0         2376     1.0             0.0           0.0   \n",
       "2              0          852     1.0             0.0           0.0   \n",
       "3              0          828     1.0             0.0           0.0   \n",
       "4              1         2734     0.0             0.0           0.0   \n",
       "...          ...          ...     ...             ...           ...   \n",
       "550063      5883         3567     0.0             1.0           0.0   \n",
       "550064      5885         3568     1.0             0.0           0.0   \n",
       "550065      5886         3568     1.0             1.0           0.0   \n",
       "550066      5888         3568     1.0             0.0           0.0   \n",
       "550067      5889         3566     1.0             1.0           1.0   \n",
       "\n",
       "        Occupation_1  Occupation_2  Occupation_3  Occupation_4  Occupation_5  \\\n",
       "0                0.0           0.0           0.0           0.0           0.0   \n",
       "1                0.0           0.0           0.0           0.0           0.0   \n",
       "2                0.0           0.0           0.0           0.0           0.0   \n",
       "3                0.0           0.0           0.0           0.0           0.0   \n",
       "4                0.0           0.0           0.0           0.0           0.0   \n",
       "...              ...           ...           ...           ...           ...   \n",
       "550063           0.0           0.0           0.0           0.0           0.0   \n",
       "550064           1.0           0.0           0.0           0.0           0.0   \n",
       "550065           0.0           0.0           0.0           0.0           0.0   \n",
       "550066           1.0           0.0           0.0           0.0           0.0   \n",
       "550067           0.0           0.0           0.0           0.0           0.0   \n",
       "\n",
       "        ...  Product_Category_3_9  Product_Category_3_10  \\\n",
       "0       ...                   0.0                    0.0   \n",
       "1       ...                   0.0                    0.0   \n",
       "2       ...                   0.0                    0.0   \n",
       "3       ...                   0.0                    0.0   \n",
       "4       ...                   0.0                    0.0   \n",
       "...     ...                   ...                    ...   \n",
       "550063  ...                   0.0                    0.0   \n",
       "550064  ...                   0.0                    0.0   \n",
       "550065  ...                   0.0                    0.0   \n",
       "550066  ...                   0.0                    0.0   \n",
       "550067  ...                   0.0                    0.0   \n",
       "\n",
       "        Product_Category_3_11  Product_Category_3_12  Product_Category_3_13  \\\n",
       "0                         0.0                    0.0                    0.0   \n",
       "1                         0.0                    0.0                    0.0   \n",
       "2                         0.0                    0.0                    0.0   \n",
       "3                         0.0                    0.0                    0.0   \n",
       "4                         0.0                    0.0                    0.0   \n",
       "...                       ...                    ...                    ...   \n",
       "550063                    0.0                    0.0                    0.0   \n",
       "550064                    0.0                    0.0                    0.0   \n",
       "550065                    0.0                    0.0                    0.0   \n",
       "550066                    0.0                    0.0                    0.0   \n",
       "550067                    0.0                    0.0                    0.0   \n",
       "\n",
       "        Product_Category_3_14  Product_Category_3_15  Product_Category_3_16  \\\n",
       "0                         0.0                    0.0                    0.0   \n",
       "1                         1.0                    0.0                    0.0   \n",
       "2                         0.0                    0.0                    0.0   \n",
       "3                         0.0                    0.0                    0.0   \n",
       "4                         0.0                    0.0                    0.0   \n",
       "...                       ...                    ...                    ...   \n",
       "550063                    0.0                    0.0                    0.0   \n",
       "550064                    0.0                    0.0                    0.0   \n",
       "550065                    0.0                    0.0                    0.0   \n",
       "550066                    0.0                    0.0                    0.0   \n",
       "550067                    0.0                    0.0                    0.0   \n",
       "\n",
       "        Product_Category_3_17  Product_Category_3_18  \n",
       "0                         0.0                    0.0  \n",
       "1                         0.0                    0.0  \n",
       "2                         0.0                    0.0  \n",
       "3                         0.0                    0.0  \n",
       "4                         0.0                    0.0  \n",
       "...                       ...                    ...  \n",
       "550063                    0.0                    0.0  \n",
       "550064                    0.0                    0.0  \n",
       "550065                    0.0                    0.0  \n",
       "550066                    0.0                    0.0  \n",
       "550067                    0.0                    0.0  \n",
       "\n",
       "[550068 rows x 87 columns]"
      ]
     },
     "execution_count": 52,
     "metadata": {},
     "output_type": "execute_result"
    }
   ],
   "source": [
    "\n",
    "dataset[[\"user_idx\", \"product_idx\"]].join(X_norm)"
   ]
  },
  {
   "cell_type": "code",
   "execution_count": 53,
   "metadata": {},
   "outputs": [],
   "source": [
    "embeddings_ds = dataset[[\"user_idx\", \"product_idx\"]].join(X_norm)\n",
    "X_train, X_valid, y_train, y_valid = train_test_split(embeddings_ds, y, test_size=0.25, random_state=12)\n",
    "\n",
    "user_idx_train = X_train[\"user_idx\"].to_numpy()\n",
    "user_idx_valid = X_valid[\"user_idx\"].to_numpy()\n",
    "\n",
    "product_idx_train = X_train[\"product_idx\"].to_numpy()\n",
    "product_idx_valid = X_valid[\"product_idx\"].to_numpy()\n",
    "\n",
    "X_train = X_train.drop(columns=[\"product_idx\", \"user_idx\"]).to_numpy()\n",
    "y_train = y_train.to_numpy()\n",
    "\n",
    "X_valid = X_valid.drop(columns=[\"product_idx\", \"user_idx\"]).to_numpy()\n",
    "y_valid = y_valid.to_numpy()\n",
    "\n",
    "y_train = y_train.reshape(-1)\n",
    "y_valid = y_valid.reshape(-1)"
   ]
  },
  {
   "cell_type": "code",
   "execution_count": 54,
   "metadata": {},
   "outputs": [],
   "source": [
    "train = DatasetEmbeddings(X_train, user_idx_train, product_idx_train, y_train)\n",
    "valid = DatasetEmbeddings(X_valid, user_idx_valid, product_idx_valid, y_valid)\n",
    "train_dataloader = DataLoader(train, batch_size=1024, shuffle=True)\n",
    "valid_dataloader = DataLoader(valid, batch_size=1024, shuffle=True)"
   ]
  },
  {
   "cell_type": "code",
   "execution_count": 55,
   "metadata": {},
   "outputs": [],
   "source": [
    "class NNetWithEmbeddings(torch.nn.Module):\n",
    "\n",
    "    def __init__(self, number_of_users, number_of_products, d_users, d_products):\n",
    "\n",
    "        super().__init__()\n",
    "        \n",
    "        # creo un modulo embedding para users\n",
    "        self.users_embedding = torch.nn.Embedding(num_embeddings=number_of_users, embedding_dim=d_users)\n",
    "        \n",
    "        # creo un modulo embedding para productos\n",
    "        self.products_embedding = torch.nn.Embedding(num_embeddings=number_of_products, embedding_dim=d_products)\n",
    "\n",
    "        # Igual que las capas anteriores\n",
    "        self.linear_1 = torch.nn.Linear(in_features=(85 + d_users + d_products), \n",
    "                                        out_features=100, bias=True) \n",
    "        self.relu_1 = torch.nn.ReLU()\n",
    "\n",
    "        self.output = torch.nn.Linear(in_features=100, out_features=1, bias=True)\n",
    "\n",
    "    def forward(self, x, user_idx, product_idx):\n",
    "        # Inicializacion de embeddings\n",
    "        user_emb = self.users_embedding(user_idx) \n",
    "        prod_emb = self.products_embedding(product_idx) \n",
    "\n",
    "        final_input = torch.cat([x, user_emb, prod_emb], dim=1) \n",
    "\n",
    "        x = self.linear_1(final_input) \n",
    "        x = self.relu_1(x)   \n",
    "        x = self.output(x) \n",
    "        return x"
   ]
  },
  {
   "cell_type": "code",
   "execution_count": 56,
   "metadata": {},
   "outputs": [],
   "source": [
    "nnet = NNetWithEmbeddings(number_of_users=len(user_idx), number_of_products=len(product_idx), d_users=8, d_products=8)\n",
    "\n",
    "optimizer = torch.optim.Adam(nnet.parameters(), lr=0.001)\n",
    "\n",
    "loss_function = torch.nn.BCEWithLogitsLoss(reduction=\"sum\")"
   ]
  },
  {
   "cell_type": "code",
   "execution_count": 57,
   "metadata": {},
   "outputs": [
    {
     "name": "stdout",
     "output_type": "stream",
     "text": [
      "Epoch: 0 \tTraining Loss: 155581.8292541504 \tValidation Loss: 41891.442237854004 \tAUC: 0.9064311861418819\n",
      "Epoch: 1 \tTraining Loss: 123512.73931884766 \tValidation Loss: 40187.76877593994 \tAUC: 0.9376298928484745\n",
      "Epoch: 2 \tTraining Loss: 118462.99507141113 \tValidation Loss: 39045.020568847656 \tAUC: 0.9435133185567756\n",
      "Epoch: 3 \tTraining Loss: 114596.2622833252 \tValidation Loss: 38136.76779174805 \tAUC: 0.9476528240296775\n",
      "Epoch: 4 \tTraining Loss: 111437.99951171875 \tValidation Loss: 37503.96979522705 \tAUC: 0.9507672424953074\n",
      "Epoch: 5 \tTraining Loss: 108981.0244140625 \tValidation Loss: 37085.53251647949 \tAUC: 0.9531071070343988\n",
      "Epoch: 6 \tTraining Loss: 107040.28544616699 \tValidation Loss: 36756.73455810547 \tAUC: 0.9548976944036802\n",
      "Epoch: 7 \tTraining Loss: 105400.61276245117 \tValidation Loss: 36436.74352264404 \tAUC: 0.9563656297915268\n",
      "Epoch: 8 \tTraining Loss: 104171.51913452148 \tValidation Loss: 36300.93503570557 \tAUC: 0.9574523637071262\n",
      "Epoch: 9 \tTraining Loss: 103101.39431762695 \tValidation Loss: 36198.495277404785 \tAUC: 0.958370000975725\n",
      "Epoch: 10 \tTraining Loss: 102185.02062988281 \tValidation Loss: 36052.11631011963 \tAUC: 0.9591599788805178\n",
      "Epoch: 11 \tTraining Loss: 101424.7854309082 \tValidation Loss: 36018.47585296631 \tAUC: 0.9598049843547006\n",
      "Epoch: 12 \tTraining Loss: 100768.05903625488 \tValidation Loss: 35981.542419433594 \tAUC: 0.960353756196571\n",
      "Epoch: 13 \tTraining Loss: 100158.99655151367 \tValidation Loss: 36028.256912231445 \tAUC: 0.9608536617470698\n",
      "Epoch: 14 \tTraining Loss: 99622.01002502441 \tValidation Loss: 36121.27219390869 \tAUC: 0.9613100493185859\n",
      "Epoch: 15 \tTraining Loss: 99169.19596862793 \tValidation Loss: 36024.48263549805 \tAUC: 0.9616743907386343\n",
      "Epoch: 16 \tTraining Loss: 98705.8311920166 \tValidation Loss: 35973.425621032715 \tAUC: 0.9620567725634247\n",
      "Epoch: 17 \tTraining Loss: 98363.06494140625 \tValidation Loss: 36012.53536224365 \tAUC: 0.9623294542448364\n",
      "Epoch: 18 \tTraining Loss: 97906.5825958252 \tValidation Loss: 36100.52079772949 \tAUC: 0.9627014510945846\n",
      "Epoch: 19 \tTraining Loss: 97513.0256652832 \tValidation Loss: 36052.25942993164 \tAUC: 0.9630182426345891\n",
      "Epoch: 20 \tTraining Loss: 97186.77058410645 \tValidation Loss: 36074.940101623535 \tAUC: 0.9632732112464171\n",
      "Epoch: 21 \tTraining Loss: 96849.22312927246 \tValidation Loss: 36096.50030899048 \tAUC: 0.9635490000506981\n",
      "Epoch: 22 \tTraining Loss: 96498.93293762207 \tValidation Loss: 36173.65627288818 \tAUC: 0.9638209249840053\n",
      "Epoch: 23 \tTraining Loss: 96157.1247253418 \tValidation Loss: 36205.13104248047 \tAUC: 0.9640913013004621\n",
      "Epoch: 24 \tTraining Loss: 95828.82333374023 \tValidation Loss: 36293.14067840576 \tAUC: 0.9643482470107646\n",
      "Epoch: 25 \tTraining Loss: 95546.36430358887 \tValidation Loss: 36342.12154388428 \tAUC: 0.9645684829751623\n",
      "Epoch: 26 \tTraining Loss: 95247.5824432373 \tValidation Loss: 36356.46838378906 \tAUC: 0.9648077378450657\n",
      "Epoch: 27 \tTraining Loss: 94932.8504486084 \tValidation Loss: 36366.151794433594 \tAUC: 0.9650432308605119\n",
      "Epoch: 28 \tTraining Loss: 94654.68873596191 \tValidation Loss: 36383.95771026611 \tAUC: 0.965261025107068\n",
      "Epoch: 29 \tTraining Loss: 94389.13265991211 \tValidation Loss: 36569.99851989746 \tAUC: 0.9654766835627902\n",
      "Epoch: 30 \tTraining Loss: 94094.32792663574 \tValidation Loss: 36525.459869384766 \tAUC: 0.9656861463501958\n",
      "Epoch: 31 \tTraining Loss: 93827.94651794434 \tValidation Loss: 36473.404541015625 \tAUC: 0.9659073274838345\n",
      "Epoch: 32 \tTraining Loss: 93471.48937988281 \tValidation Loss: 36663.90196228027 \tAUC: 0.9661701112103147\n",
      "Epoch: 33 \tTraining Loss: 93187.6520690918 \tValidation Loss: 36668.32320404053 \tAUC: 0.9663817038820124\n",
      "Epoch: 34 \tTraining Loss: 92941.18952941895 \tValidation Loss: 36817.17869567871 \tAUC: 0.9665740053345668\n",
      "Epoch: 35 \tTraining Loss: 92652.0279083252 \tValidation Loss: 37140.47344970703 \tAUC: 0.9668003152949692\n",
      "Epoch: 36 \tTraining Loss: 92362.56694030762 \tValidation Loss: 36908.45023345947 \tAUC: 0.9670182124648556\n",
      "Epoch: 37 \tTraining Loss: 92034.54696655273 \tValidation Loss: 36863.33088684082 \tAUC: 0.9672551192270281\n",
      "Epoch: 38 \tTraining Loss: 91779.0023803711 \tValidation Loss: 37011.90856933594 \tAUC: 0.9674504459809162\n",
      "Epoch: 39 \tTraining Loss: 91516.30268859863 \tValidation Loss: 37070.85633087158 \tAUC: 0.9676459460219593\n",
      "Epoch: 40 \tTraining Loss: 91251.79386901855 \tValidation Loss: 37220.77490234375 \tAUC: 0.9678481333100053\n",
      "Epoch: 41 \tTraining Loss: 90981.8543548584 \tValidation Loss: 37117.22235107422 \tAUC: 0.9680444994804656\n",
      "Epoch: 42 \tTraining Loss: 90599.79136657715 \tValidation Loss: 37339.89961242676 \tAUC: 0.9683319035483443\n",
      "Epoch: 43 \tTraining Loss: 90328.68162536621 \tValidation Loss: 37465.1633682251 \tAUC: 0.9685230805521814\n",
      "Epoch: 44 \tTraining Loss: 90133.48251342773 \tValidation Loss: 37621.63701629639 \tAUC: 0.968662019560563\n",
      "Epoch: 45 \tTraining Loss: 89913.43632507324 \tValidation Loss: 37516.73699951172 \tAUC: 0.9688188001977206\n",
      "Epoch: 46 \tTraining Loss: 89572.14457702637 \tValidation Loss: 37589.58444213867 \tAUC: 0.9690724103049192\n",
      "Epoch: 47 \tTraining Loss: 89348.90846252441 \tValidation Loss: 37773.64193725586 \tAUC: 0.9692342337686108\n",
      "Epoch: 48 \tTraining Loss: 89045.00810241699 \tValidation Loss: 37914.42461395264 \tAUC: 0.9694527111765829\n",
      "Epoch: 49 \tTraining Loss: 88798.44627380371 \tValidation Loss: 37763.77841949463 \tAUC: 0.9696298652044861\n",
      "Epoch: 50 \tTraining Loss: 88464.10935974121 \tValidation Loss: 37974.636001586914 \tAUC: 0.9698659195987486\n",
      "Epoch: 51 \tTraining Loss: 88201.3892211914 \tValidation Loss: 37890.00784301758 \tAUC: 0.9700535537926012\n",
      "Epoch: 52 \tTraining Loss: 87966.60559082031 \tValidation Loss: 38277.76043701172 \tAUC: 0.9702261940706199\n",
      "Epoch: 53 \tTraining Loss: 87671.80072021484 \tValidation Loss: 38240.36560058594 \tAUC: 0.9704404545385636\n",
      "Epoch: 54 \tTraining Loss: 87398.1773071289 \tValidation Loss: 38308.2374420166 \tAUC: 0.9706212395211726\n",
      "Epoch: 55 \tTraining Loss: 87114.91049194336 \tValidation Loss: 38411.876052856445 \tAUC: 0.9708258751811106\n",
      "Epoch: 56 \tTraining Loss: 86868.22367858887 \tValidation Loss: 38571.97383117676 \tAUC: 0.9709962378132568\n",
      "Epoch: 57 \tTraining Loss: 86628.6609954834 \tValidation Loss: 38552.277168273926 \tAUC: 0.9711655933922692\n",
      "Epoch: 58 \tTraining Loss: 86378.36227416992 \tValidation Loss: 38585.531883239746 \tAUC: 0.9713397019606197\n",
      "Epoch: 59 \tTraining Loss: 86080.59217834473 \tValidation Loss: 38689.292053222656 \tAUC: 0.9715440469623283\n",
      "Epoch: 60 \tTraining Loss: 85751.94590759277 \tValidation Loss: 39065.076972961426 \tAUC: 0.9717714851702614\n",
      "Epoch: 61 \tTraining Loss: 85514.35877990723 \tValidation Loss: 39106.66767120361 \tAUC: 0.9719334567509063\n",
      "Epoch: 62 \tTraining Loss: 85260.0436706543 \tValidation Loss: 39080.34712219238 \tAUC: 0.9721055293514315\n",
      "Epoch: 63 \tTraining Loss: 85051.89059448242 \tValidation Loss: 39359.63900756836 \tAUC: 0.9722553107242228\n",
      "Epoch: 64 \tTraining Loss: 84749.89619445801 \tValidation Loss: 39262.07392120361 \tAUC: 0.9724547603668764\n",
      "Epoch: 65 \tTraining Loss: 84503.85891723633 \tValidation Loss: 39548.76739501953 \tAUC: 0.9726286995081568\n",
      "Epoch: 66 \tTraining Loss: 84253.77890014648 \tValidation Loss: 39501.3077545166 \tAUC: 0.9727982899518608\n",
      "Epoch: 67 \tTraining Loss: 83974.81884765625 \tValidation Loss: 39511.5313873291 \tAUC: 0.9729882848262907\n",
      "Epoch: 68 \tTraining Loss: 83678.57974243164 \tValidation Loss: 39734.09149932861 \tAUC: 0.9731798371038582\n",
      "Epoch: 69 \tTraining Loss: 83473.8342590332 \tValidation Loss: 39754.60154724121 \tAUC: 0.9733140686228805\n",
      "Epoch: 70 \tTraining Loss: 83176.64599609375 \tValidation Loss: 40039.68453979492 \tAUC: 0.9735165538236639\n",
      "Epoch: 71 \tTraining Loss: 82953.78300476074 \tValidation Loss: 40399.731941223145 \tAUC: 0.9736546457212026\n",
      "Epoch: 72 \tTraining Loss: 82654.70539855957 \tValidation Loss: 40117.77877807617 \tAUC: 0.9738671735749388\n",
      "Epoch: 73 \tTraining Loss: 82456.15896606445 \tValidation Loss: 40405.357902526855 \tAUC: 0.9739798921082622\n",
      "Epoch: 74 \tTraining Loss: 82130.77629089355 \tValidation Loss: 40378.10725402832 \tAUC: 0.9742024938019826\n",
      "Epoch: 75 \tTraining Loss: 81891.0217590332 \tValidation Loss: 40425.48596191406 \tAUC: 0.9743616202675832\n",
      "Epoch: 76 \tTraining Loss: 81587.32214355469 \tValidation Loss: 40888.392822265625 \tAUC: 0.9745596823998304\n",
      "Epoch: 77 \tTraining Loss: 81430.07077026367 \tValidation Loss: 40796.19731140137 \tAUC: 0.9746539920680365\n",
      "Epoch: 78 \tTraining Loss: 81135.54823303223 \tValidation Loss: 40935.75456237793 \tAUC: 0.9748482464046947\n",
      "Epoch: 79 \tTraining Loss: 80969.95584106445 \tValidation Loss: 40947.70164489746 \tAUC: 0.9749561417196517\n",
      "Epoch: 80 \tTraining Loss: 80676.54100036621 \tValidation Loss: 41093.659759521484 \tAUC: 0.9751469961429741\n",
      "Epoch: 81 \tTraining Loss: 80417.51528930664 \tValidation Loss: 41247.81960296631 \tAUC: 0.9753161977229996\n",
      "Epoch: 82 \tTraining Loss: 80131.77018737793 \tValidation Loss: 41412.095695495605 \tAUC: 0.9754980692152102\n",
      "Epoch: 83 \tTraining Loss: 79881.82023620605 \tValidation Loss: 41529.50341796875 \tAUC: 0.9756546700949765\n",
      "Epoch: 84 \tTraining Loss: 79618.24656677246 \tValidation Loss: 41585.83054351807 \tAUC: 0.9758196581661597\n",
      "Epoch: 85 \tTraining Loss: 79419.72355651855 \tValidation Loss: 41915.85209655762 \tAUC: 0.9759427545425599\n",
      "Epoch: 86 \tTraining Loss: 79219.19813537598 \tValidation Loss: 41922.55211639404 \tAUC: 0.9760700776746316\n",
      "Epoch: 87 \tTraining Loss: 79012.43069458008 \tValidation Loss: 42267.56721496582 \tAUC: 0.9761970938258316\n",
      "Epoch: 88 \tTraining Loss: 78694.6919555664 \tValidation Loss: 42152.86432647705 \tAUC: 0.9764041631158152\n",
      "Epoch: 89 \tTraining Loss: 78526.90751647949 \tValidation Loss: 42281.35484313965 \tAUC: 0.9765006611822914\n",
      "Epoch: 90 \tTraining Loss: 78304.2603302002 \tValidation Loss: 42483.1219329834 \tAUC: 0.9766459133648607\n",
      "Epoch: 91 \tTraining Loss: 78054.21908569336 \tValidation Loss: 42456.832359313965 \tAUC: 0.9768050113638707\n",
      "Epoch: 92 \tTraining Loss: 77850.58666992188 \tValidation Loss: 42698.88536834717 \tAUC: 0.9769231343094767\n",
      "Epoch: 93 \tTraining Loss: 77667.58804321289 \tValidation Loss: 42782.383544921875 \tAUC: 0.9770305783866928\n",
      "Epoch: 94 \tTraining Loss: 77368.40199279785 \tValidation Loss: 42914.74546813965 \tAUC: 0.9772183445341611\n",
      "Epoch: 95 \tTraining Loss: 77209.58857727051 \tValidation Loss: 43083.56723022461 \tAUC: 0.9773112435314543\n",
      "Epoch: 96 \tTraining Loss: 77020.6276550293 \tValidation Loss: 43426.6986618042 \tAUC: 0.9774245269728139\n",
      "Epoch: 97 \tTraining Loss: 76741.87467956543 \tValidation Loss: 43413.89604187012 \tAUC: 0.9775991314210883\n",
      "Epoch: 98 \tTraining Loss: 76562.37564086914 \tValidation Loss: 43407.11932373047 \tAUC: 0.9777066515480946\n",
      "Epoch: 99 \tTraining Loss: 76360.37216186523 \tValidation Loss: 43590.06143951416 \tAUC: 0.9778316416083832\n",
      "Epoch: 100 \tTraining Loss: 76156.00721740723 \tValidation Loss: 43672.42379760742 \tAUC: 0.9779585553754394\n",
      "Epoch: 101 \tTraining Loss: 75880.94912719727 \tValidation Loss: 44029.48963165283 \tAUC: 0.9781205413425578\n",
      "Epoch: 102 \tTraining Loss: 75657.2618560791 \tValidation Loss: 44019.57670593262 \tAUC: 0.9782561631782066\n",
      "Epoch: 103 \tTraining Loss: 75556.79434204102 \tValidation Loss: 44027.31971740723 \tAUC: 0.9783099078197534\n",
      "Epoch: 104 \tTraining Loss: 75307.21388244629 \tValidation Loss: 44258.77262878418 \tAUC: 0.9784567762380486\n",
      "Epoch: 105 \tTraining Loss: 75090.45523071289 \tValidation Loss: 44505.425720214844 \tAUC: 0.9785849123284067\n",
      "Epoch: 106 \tTraining Loss: 74906.07391357422 \tValidation Loss: 44562.82002258301 \tAUC: 0.9786988296936614\n",
      "Epoch: 107 \tTraining Loss: 74766.66915893555 \tValidation Loss: 44597.962890625 \tAUC: 0.9787727522341231\n",
      "Epoch: 108 \tTraining Loss: 74455.57720947266 \tValidation Loss: 44780.87452697754 \tAUC: 0.9789650858540474\n",
      "Epoch: 109 \tTraining Loss: 74308.17329406738 \tValidation Loss: 44957.77716064453 \tAUC: 0.9790499973440928\n",
      "Epoch: 110 \tTraining Loss: 74139.18603515625 \tValidation Loss: 45087.672691345215 \tAUC: 0.9791448571539806\n",
      "Epoch: 111 \tTraining Loss: 73921.78497314453 \tValidation Loss: 45278.83558654785 \tAUC: 0.9792682285644589\n",
      "Epoch: 112 \tTraining Loss: 73795.83578491211 \tValidation Loss: 45201.72864532471 \tAUC: 0.9793414872929436\n",
      "Epoch: 113 \tTraining Loss: 73558.69114685059 \tValidation Loss: 45506.381423950195 \tAUC: 0.9794773323149971\n",
      "Epoch: 114 \tTraining Loss: 73457.97216796875 \tValidation Loss: 45885.53665161133 \tAUC: 0.979534365111245\n",
      "Epoch: 115 \tTraining Loss: 73303.89350891113 \tValidation Loss: 45555.95362854004 \tAUC: 0.9796250298916789\n",
      "Epoch: 116 \tTraining Loss: 73057.58644104004 \tValidation Loss: 45763.82810974121 \tAUC: 0.9797716502842325\n",
      "Epoch: 117 \tTraining Loss: 72820.53001403809 \tValidation Loss: 46046.45610046387 \tAUC: 0.9799078656293051\n",
      "Epoch: 118 \tTraining Loss: 72752.02235412598 \tValidation Loss: 46517.6508102417 \tAUC: 0.9799431406614856\n",
      "Epoch: 119 \tTraining Loss: 72516.00285339355 \tValidation Loss: 46378.440979003906 \tAUC: 0.9800779218565284\n",
      "Epoch: 120 \tTraining Loss: 72340.96321105957 \tValidation Loss: 46773.59152984619 \tAUC: 0.9801722479331568\n",
      "Epoch: 121 \tTraining Loss: 72232.86753845215 \tValidation Loss: 46971.20587158203 \tAUC: 0.9802306282174759\n",
      "Epoch: 122 \tTraining Loss: 71925.65350341797 \tValidation Loss: 46516.27278137207 \tAUC: 0.9804041356297594\n",
      "Epoch: 123 \tTraining Loss: 71883.21755981445 \tValidation Loss: 46721.695167541504 \tAUC: 0.9804270267636284\n",
      "Epoch: 124 \tTraining Loss: 71655.85604858398 \tValidation Loss: 47012.95817565918 \tAUC: 0.980558071066093\n",
      "Epoch: 125 \tTraining Loss: 71469.99488830566 \tValidation Loss: 47276.60134887695 \tAUC: 0.9806669229344767\n",
      "Epoch: 126 \tTraining Loss: 71279.11238098145 \tValidation Loss: 47198.492584228516 \tAUC: 0.9807702776015009\n",
      "Epoch: 127 \tTraining Loss: 71099.1936340332 \tValidation Loss: 47312.53884887695 \tAUC: 0.9808726602747609\n",
      "Epoch: 128 \tTraining Loss: 70954.27307128906 \tValidation Loss: 47553.42817687988 \tAUC: 0.9809526705482262\n",
      "Epoch: 129 \tTraining Loss: 70781.4561920166 \tValidation Loss: 47548.97812652588 \tAUC: 0.9810468735923229\n",
      "Epoch: 130 \tTraining Loss: 70738.30274963379 \tValidation Loss: 47784.51623535156 \tAUC: 0.9810654903015411\n",
      "Epoch: 131 \tTraining Loss: 70560.25712585449 \tValidation Loss: 47779.09216308594 \tAUC: 0.9811647237708845\n",
      "Epoch: 132 \tTraining Loss: 70443.47226715088 \tValidation Loss: 47868.3479309082 \tAUC: 0.9812330022552198\n",
      "Epoch: 133 \tTraining Loss: 70209.42781066895 \tValidation Loss: 48263.62782287598 \tAUC: 0.9813595187644455\n",
      "Epoch: 134 \tTraining Loss: 69984.11682891846 \tValidation Loss: 48344.89973449707 \tAUC: 0.9814951524131781\n",
      "Epoch: 135 \tTraining Loss: 69977.97247314453 \tValidation Loss: 48559.58467102051 \tAUC: 0.9814854884896502\n",
      "Epoch: 136 \tTraining Loss: 69808.56204223633 \tValidation Loss: 48832.425552368164 \tAUC: 0.9815796121753131\n",
      "Epoch: 137 \tTraining Loss: 69575.61207580566 \tValidation Loss: 48752.03973388672 \tAUC: 0.9817074370693418\n",
      "Epoch: 138 \tTraining Loss: 69426.21179962158 \tValidation Loss: 48804.861557006836 \tAUC: 0.9817760853375099\n",
      "Epoch: 139 \tTraining Loss: 69366.76118469238 \tValidation Loss: 49121.379302978516 \tAUC: 0.9818173542597529\n",
      "Epoch: 140 \tTraining Loss: 69189.58155822754 \tValidation Loss: 48890.14148712158 \tAUC: 0.9819087515494119\n",
      "Epoch: 141 \tTraining Loss: 68974.3441772461 \tValidation Loss: 49017.208572387695 \tAUC: 0.9820178628032139\n",
      "Epoch: 142 \tTraining Loss: 68882.86640930176 \tValidation Loss: 49348.25801086426 \tAUC: 0.9820736353370447\n",
      "Epoch: 143 \tTraining Loss: 68660.90408325195 \tValidation Loss: 49273.870849609375 \tAUC: 0.9822060539030867\n",
      "Epoch: 144 \tTraining Loss: 68539.97624206543 \tValidation Loss: 49328.604751586914 \tAUC: 0.9822577901610938\n",
      "Epoch: 145 \tTraining Loss: 68554.72459411621 \tValidation Loss: 49740.57719421387 \tAUC: 0.9822439943786998\n",
      "Epoch: 146 \tTraining Loss: 68323.75189208984 \tValidation Loss: 49608.24765777588 \tAUC: 0.9823781717339978\n",
      "Epoch: 147 \tTraining Loss: 68123.29773712158 \tValidation Loss: 49761.72400665283 \tAUC: 0.9824834818585154\n",
      "Epoch: 148 \tTraining Loss: 68007.21293640137 \tValidation Loss: 50078.21105957031 \tAUC: 0.9825458519260858\n",
      "Epoch: 149 \tTraining Loss: 67939.88639831543 \tValidation Loss: 50094.410232543945 \tAUC: 0.982579325217912\n",
      "Epoch: 150 \tTraining Loss: 67759.69062805176 \tValidation Loss: 50499.869201660156 \tAUC: 0.9826700983257941\n",
      "Epoch: 151 \tTraining Loss: 67729.56376647949 \tValidation Loss: 50304.29499053955 \tAUC: 0.9826781351440885\n",
      "Epoch: 152 \tTraining Loss: 67512.53476715088 \tValidation Loss: 50477.064529418945 \tAUC: 0.9828061039886304\n",
      "Epoch: 153 \tTraining Loss: 67321.57777404785 \tValidation Loss: 51031.959243774414 \tAUC: 0.9828997143810998\n",
      "Epoch: 154 \tTraining Loss: 67280.0718536377 \tValidation Loss: 50801.0234375 \tAUC: 0.9829225390970083\n",
      "Epoch: 155 \tTraining Loss: 67097.67555236816 \tValidation Loss: 50897.05089569092 \tAUC: 0.9830162356735211\n",
      "Epoch: 156 \tTraining Loss: 67049.55438232422 \tValidation Loss: 51086.32940673828 \tAUC: 0.9830445440743665\n",
      "Epoch: 157 \tTraining Loss: 66923.50202941895 \tValidation Loss: 51119.584617614746 \tAUC: 0.9831018120171537\n",
      "Epoch: 158 \tTraining Loss: 66774.07084655762 \tValidation Loss: 51143.36417388916 \tAUC: 0.9831765382394446\n",
      "Epoch: 159 \tTraining Loss: 66718.47723388672 \tValidation Loss: 51372.631828308105 \tAUC: 0.9832021695430787\n",
      "Epoch: 160 \tTraining Loss: 66473.42739105225 \tValidation Loss: 51724.52780151367 \tAUC: 0.9833374544362479\n",
      "Epoch: 161 \tTraining Loss: 66412.28829193115 \tValidation Loss: 51508.550704956055 \tAUC: 0.983367831707543\n",
      "Epoch: 162 \tTraining Loss: 66279.21795654297 \tValidation Loss: 51745.082206726074 \tAUC: 0.983443469056807\n",
      "Epoch: 163 \tTraining Loss: 66253.22873687744 \tValidation Loss: 51971.169921875 \tAUC: 0.9834495948637226\n",
      "Epoch: 164 \tTraining Loss: 66103.47514343262 \tValidation Loss: 51966.143310546875 \tAUC: 0.9835242837105933\n",
      "Epoch: 165 \tTraining Loss: 65884.49564361572 \tValidation Loss: 52083.19274902344 \tAUC: 0.9836415649372205\n",
      "Epoch: 166 \tTraining Loss: 65769.14448547363 \tValidation Loss: 52119.24543762207 \tAUC: 0.9837031377564356\n",
      "Epoch: 167 \tTraining Loss: 65653.12442016602 \tValidation Loss: 52283.3508605957 \tAUC: 0.9837594816807935\n",
      "Epoch: 168 \tTraining Loss: 65695.17538452148 \tValidation Loss: 52565.36403656006 \tAUC: 0.9837336079516039\n",
      "Epoch: 169 \tTraining Loss: 65477.16542053223 \tValidation Loss: 52514.03716278076 \tAUC: 0.9838469231191813\n",
      "Epoch: 170 \tTraining Loss: 65420.45708465576 \tValidation Loss: 52818.04381561279 \tAUC: 0.9838765606512518\n",
      "Epoch: 171 \tTraining Loss: 65211.90076446533 \tValidation Loss: 52932.388763427734 \tAUC: 0.9839837695574202\n",
      "Epoch: 172 \tTraining Loss: 65192.711990356445 \tValidation Loss: 52828.86949157715 \tAUC: 0.9839879951611936\n",
      "Epoch: 173 \tTraining Loss: 65050.63106536865 \tValidation Loss: 52955.90579986572 \tAUC: 0.9840621847704798\n",
      "Epoch: 174 \tTraining Loss: 64954.697692871094 \tValidation Loss: 53127.08088684082 \tAUC: 0.9841030139617097\n",
      "Epoch: 175 \tTraining Loss: 64816.50566864014 \tValidation Loss: 53263.83320617676 \tAUC: 0.9841775619093721\n",
      "Epoch: 176 \tTraining Loss: 64588.7027053833 \tValidation Loss: 53674.742042541504 \tAUC: 0.9842914497051547\n",
      "Epoch: 177 \tTraining Loss: 64589.32612609863 \tValidation Loss: 53382.54138183594 \tAUC: 0.9842951548837694\n",
      "Epoch: 178 \tTraining Loss: 64596.30531311035 \tValidation Loss: 53757.51100921631 \tAUC: 0.9842847747491504\n",
      "Epoch: 179 \tTraining Loss: 64398.09021759033 \tValidation Loss: 53734.14611053467 \tAUC: 0.9843878588058758\n",
      "Epoch: 180 \tTraining Loss: 64242.67247009277 \tValidation Loss: 54338.42458343506 \tAUC: 0.9844598561935702\n",
      "Epoch: 181 \tTraining Loss: 64222.966400146484 \tValidation Loss: 54117.51858520508 \tAUC: 0.984470285075541\n",
      "Epoch: 182 \tTraining Loss: 64152.69900512695 \tValidation Loss: 54208.17752838135 \tAUC: 0.9845113354189722\n",
      "Epoch: 183 \tTraining Loss: 64046.74659729004 \tValidation Loss: 54324.69609069824 \tAUC: 0.9845627126156032\n",
      "Epoch: 184 \tTraining Loss: 64024.957679748535 \tValidation Loss: 54237.028480529785 \tAUC: 0.98456725761379\n",
      "Epoch: 185 \tTraining Loss: 63805.49833679199 \tValidation Loss: 54510.65995788574 \tAUC: 0.9846779995510626\n",
      "Epoch: 186 \tTraining Loss: 63762.21006774902 \tValidation Loss: 54360.36274719238 \tAUC: 0.9846992093179397\n",
      "Epoch: 187 \tTraining Loss: 63563.13729095459 \tValidation Loss: 54623.23349761963 \tAUC: 0.9847992476332652\n",
      "Epoch: 188 \tTraining Loss: 63527.18586730957 \tValidation Loss: 54535.642639160156 \tAUC: 0.9848121546649218\n",
      "Epoch: 189 \tTraining Loss: 63465.87685394287 \tValidation Loss: 54927.32532501221 \tAUC: 0.9848468587109648\n",
      "Epoch: 190 \tTraining Loss: 63356.72010040283 \tValidation Loss: 54998.134857177734 \tAUC: 0.9848985522629584\n",
      "Epoch: 191 \tTraining Loss: 63230.244773864746 \tValidation Loss: 55065.6834564209 \tAUC: 0.9849605902407268\n",
      "Epoch: 192 \tTraining Loss: 63202.018547058105 \tValidation Loss: 55155.77555847168 \tAUC: 0.9849726411179144\n",
      "Epoch: 193 \tTraining Loss: 63176.53276824951 \tValidation Loss: 55294.537658691406 \tAUC: 0.9849782876739052\n",
      "Epoch: 194 \tTraining Loss: 63003.84980010986 \tValidation Loss: 55379.410720825195 \tAUC: 0.9850686982524623\n",
      "Epoch: 195 \tTraining Loss: 62863.71913909912 \tValidation Loss: 55369.78325653076 \tAUC: 0.985140307854851\n",
      "Epoch: 196 \tTraining Loss: 62956.44032287598 \tValidation Loss: 55591.53266906738 \tAUC: 0.9850914360368188\n",
      "Epoch: 197 \tTraining Loss: 62805.72846984863 \tValidation Loss: 55875.59373474121 \tAUC: 0.9851581718843709\n",
      "Epoch: 198 \tTraining Loss: 62641.89089202881 \tValidation Loss: 56057.71137237549 \tAUC: 0.985239988125902\n",
      "Epoch: 199 \tTraining Loss: 62549.03401184082 \tValidation Loss: 55696.36445617676 \tAUC: 0.9852893618529419\n"
     ]
    }
   ],
   "source": [
    "################## TRAINING ##################\n",
    "nnet.to(device)\n",
    "loss_list = list()\n",
    "valid_loss_list = list()\n",
    "train_auc = list()\n",
    "valid_auc = list()\n",
    "ds_name = \"dataset_1\"\n",
    "nnet_name = \"embeddings\"\n",
    "\n",
    "for epoch in range(200):  # epochs\n",
    "    epoch_loss = 0\n",
    "    epoch_valid_loss = 0\n",
    "    epoch_acc = 0\n",
    "    running_y_score = list()\n",
    "    running_y_label = list()\n",
    "    valid_y_score = list()\n",
    "    valid_y_label = list()\n",
    "\n",
    "    nnet.train()\n",
    "    for i, data in enumerate(train_dataloader):  # batches\n",
    "        # Datos del batch\n",
    "        X_batch, user_idx_batch, product_idx_batch, y_batch = data\n",
    "        X_batch = X_batch.to(device).float()\n",
    "        user_idx_batch = user_idx_batch.to(device)\n",
    "        product_idx_batch = product_idx_batch.to(device)\n",
    "        y_batch = y_batch.to(device).float()\n",
    "\n",
    "        # forward\n",
    "        optimizer.zero_grad()  # que el optim ponga los gradientes en 0\n",
    "        y_batch_score = nnet(X_batch, user_idx_batch, product_idx_batch).reshape(-1)\n",
    "        y_batch_hat = torch.sigmoid(y_batch_score).reshape(-1)\n",
    "\n",
    "        # backpropagation\n",
    "        loss = loss_function(y_batch_score, y_batch)\n",
    "        loss.backward()  # hacer gradientes de score\n",
    "\n",
    "        # actualizar parametros\n",
    "        optimizer.step()\n",
    "\n",
    "        epoch_loss += loss.item()\n",
    "        running_y_score += list(y_batch_score.detach().cpu().numpy())\n",
    "        running_y_label += list(y_batch.detach().cpu().numpy())\n",
    "\n",
    "    nnet.eval()\n",
    "\n",
    "    with torch.no_grad():\n",
    "        for i, data in enumerate(valid_dataloader):\n",
    "            X_valid_batch, user_idx_valid_batch, product_idx_valid_batch, y_valid_batch = data\n",
    "            X_valid_batch = X_valid_batch.to(device).float()\n",
    "            user_idx_valid_batch = user_idx_valid_batch.to(device)\n",
    "            product_idx_valid_batch = product_idx_valid_batch.to(device)\n",
    "            y_valid_batch = y_valid_batch.to(device).float()\n",
    "\n",
    "            # forward\n",
    "            y_valid_batch_score = nnet(X_valid_batch, user_idx_valid_batch, product_idx_valid_batch).reshape(-1)\n",
    "            y_valid_batch_hat = torch.sigmoid(y_valid_batch_score).reshape(-1)\n",
    "\n",
    "            valid_loss = loss_function(y_valid_batch_score, y_valid_batch)\n",
    "\n",
    "            epoch_valid_loss += valid_loss.item()\n",
    "\n",
    "            valid_y_score += list(y_valid_batch_score.detach().cpu().numpy())\n",
    "            valid_y_label += list(y_valid_batch.detach().cpu().numpy())\n",
    "\n",
    "    fpr, tpr, _ = metrics.roc_curve(running_y_label, running_y_score)\n",
    "    epoch_auc = metrics.auc(fpr, tpr)\n",
    "\n",
    "    val_fpr, val_tpr, _ = metrics.roc_curve(valid_y_label, valid_y_score)\n",
    "    epoch_valid_auc = metrics.auc(val_fpr, val_tpr)\n",
    "\n",
    "    train_auc.append(epoch_auc)\n",
    "    valid_auc.append(epoch_valid_auc)\n",
    "    loss_list.append(epoch_loss)\n",
    "    valid_loss_list.append(epoch_valid_loss)\n",
    "\n",
    "    print(\"Epoch:\", epoch,\n",
    "          \"\\tTraining Loss:\", epoch_loss,\n",
    "          \"\\tValidation Loss:\", epoch_valid_loss,\n",
    "          \"\\tAUC:\", epoch_auc)\n",
    "    \n",
    " "
   ]
  },
  {
   "cell_type": "markdown",
   "metadata": {},
   "source": [
    "#### Resultados Obtenidos"
   ]
  },
  {
   "cell_type": "code",
   "execution_count": 60,
   "metadata": {},
   "outputs": [
    {
     "data": {
      "text/plain": [
       "[]"
      ]
     },
     "execution_count": 60,
     "metadata": {},
     "output_type": "execute_result"
    },
    {
     "data": {
      "image/png": "[encoded data removed]",
      "text/plain": [
       "<Figure size 1600x500 with 2 Axes>"
      ]
     },
     "metadata": {},
     "output_type": "display_data"
    }
   ],
   "source": [
    "fig, ax = plt.subplots(1,2, figsize=(16, 5))\n",
    "x = range(0, len(loss_list))\n",
    "ax[0].plot(x, loss_list, label=\"Training Loss\")\n",
    "ax[0].plot(x, valid_loss_list, label=\"Validation Loss\")\n",
    "ax[0].set_ylim([0, 280000])\n",
    "ax[0].set_title( \"Embedding Loss\")\n",
    "x = range(0, len(train_auc))\n",
    "ax[1].plot(x, train_auc, label=\"Training AUC\")\n",
    "ax[1].plot(x, valid_auc, label=\"Validation AUC\")\n",
    "ax[1].set_title(\"Embedding AUC\")\n",
    "plt.plot()\n"
   ]
  },
  {
   "cell_type": "markdown",
   "metadata": {},
   "source": [
    "#### Conclusión"
   ]
  },
  {
   "cell_type": "markdown",
   "metadata": {},
   "source": [
    "Comparando los modelos, vemos que el modelo con embedding tiene una disminucion el trainning loss teniendo en cuenta 200 epochs. Aunque si vemos el validation loss vemos que este sufre un aumento en su valor. \n",
    "\n",
    "Ademas podemos ver que el valor de AUC en validation no tiene un buen valor de performance por lo que podria inferirse que estaria haciendo un overfitting.\n",
    "\n"
   ]
  }
 ],
 "metadata": {
  "kernelspec": {
   "display_name": "Python 3.9.13 ('vision-cv')",
   "language": "python",
   "name": "python3"
  },
  "language_info": {
   "codemirror_mode": {
    "name": "ipython",
    "version": 3
   },
   "file_extension": ".py",
   "mimetype": "text/x-python",
   "name": "python",
   "nbconvert_exporter": "python",
   "pygments_lexer": "ipython3",
   "version": "3.9.13"
  },
  "orig_nbformat": 4,
  "vscode": {
   "interpreter": {
    "hash": "bcf8f399a8047b73149ebd9e928b1555f5bd5d77421e0d46d02f06ae4bad4f73"
   }
  }
 },
 "nbformat": 4,
 "nbformat_minor": 2
}
